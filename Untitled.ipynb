{
 "cells": [
  {
   "cell_type": "code",
   "execution_count": 1,
   "metadata": {},
   "outputs": [],
   "source": [
    "import pandas as pd\n",
    "import seaborn as sns"
   ]
  },
  {
   "cell_type": "code",
   "execution_count": 2,
   "metadata": {},
   "outputs": [],
   "source": [
    "#the dataset comes with four datas\n",
    "books=pd.read_csv('books.csv')\n",
    "ratings=pd.read_csv('ratings.csv')\n",
    "btags=pd.read_csv('tags.csv')\n",
    "tags=pd.read_csv('book_tags.csv')"
   ]
  },
  {
   "cell_type": "code",
   "execution_count": 3,
   "metadata": {},
   "outputs": [
    {
     "name": "stdout",
     "output_type": "stream",
     "text": [
      "(10000, 23) \n",
      "\n",
      "       tag_id    tag_name\n",
      "34247   34247   Ｃhildrens\n",
      "34248   34248   Ｆａｖｏｒｉｔｅｓ\n",
      "34249   34249       Ｍａｎｇａ\n",
      "34250   34250      ＳＥＲＩＥＳ\n",
      "34251   34251  ｆａｖｏｕｒｉｔｅｓ (34252, 2) \n",
      "\n",
      "        goodreads_book_id  tag_id  count\n",
      "999907           33288638   21303      7\n",
      "999908           33288638   17271      7\n",
      "999909           33288638    1126      7\n",
      "999910           33288638   11478      7\n",
      "999911           33288638   27939      7 (999912, 3) \n",
      "\n",
      "   book_id  user_id  rating\n",
      "0        1      314       5\n",
      "1        1      439       3\n",
      "2        1      588       5\n",
      "3        1     1169       4\n",
      "4        1     1185       4 (981756, 3) \n",
      "\n"
     ]
    },
    {
     "data": {
      "text/html": [
       "<div>\n",
       "<style scoped>\n",
       "    .dataframe tbody tr th:only-of-type {\n",
       "        vertical-align: middle;\n",
       "    }\n",
       "\n",
       "    .dataframe tbody tr th {\n",
       "        vertical-align: top;\n",
       "    }\n",
       "\n",
       "    .dataframe thead th {\n",
       "        text-align: right;\n",
       "    }\n",
       "</style>\n",
       "<table border=\"1\" class=\"dataframe\">\n",
       "  <thead>\n",
       "    <tr style=\"text-align: right;\">\n",
       "      <th></th>\n",
       "      <th>id</th>\n",
       "      <th>book_id</th>\n",
       "      <th>best_book_id</th>\n",
       "      <th>work_id</th>\n",
       "      <th>books_count</th>\n",
       "      <th>isbn</th>\n",
       "      <th>isbn13</th>\n",
       "      <th>authors</th>\n",
       "      <th>original_publication_year</th>\n",
       "      <th>original_title</th>\n",
       "      <th>...</th>\n",
       "      <th>ratings_count</th>\n",
       "      <th>work_ratings_count</th>\n",
       "      <th>work_text_reviews_count</th>\n",
       "      <th>ratings_1</th>\n",
       "      <th>ratings_2</th>\n",
       "      <th>ratings_3</th>\n",
       "      <th>ratings_4</th>\n",
       "      <th>ratings_5</th>\n",
       "      <th>image_url</th>\n",
       "      <th>small_image_url</th>\n",
       "    </tr>\n",
       "  </thead>\n",
       "  <tbody>\n",
       "    <tr>\n",
       "      <th>0</th>\n",
       "      <td>1</td>\n",
       "      <td>2767052</td>\n",
       "      <td>2767052</td>\n",
       "      <td>2792775</td>\n",
       "      <td>272</td>\n",
       "      <td>439023483</td>\n",
       "      <td>9.780439e+12</td>\n",
       "      <td>Suzanne Collins</td>\n",
       "      <td>2008.0</td>\n",
       "      <td>The Hunger Games</td>\n",
       "      <td>...</td>\n",
       "      <td>4780653</td>\n",
       "      <td>4942365</td>\n",
       "      <td>155254</td>\n",
       "      <td>66715</td>\n",
       "      <td>127936</td>\n",
       "      <td>560092</td>\n",
       "      <td>1481305</td>\n",
       "      <td>2706317</td>\n",
       "      <td>https://images.gr-assets.com/books/1447303603m...</td>\n",
       "      <td>https://images.gr-assets.com/books/1447303603s...</td>\n",
       "    </tr>\n",
       "    <tr>\n",
       "      <th>1</th>\n",
       "      <td>2</td>\n",
       "      <td>3</td>\n",
       "      <td>3</td>\n",
       "      <td>4640799</td>\n",
       "      <td>491</td>\n",
       "      <td>439554934</td>\n",
       "      <td>9.780440e+12</td>\n",
       "      <td>J.K. Rowling, Mary GrandPré</td>\n",
       "      <td>1997.0</td>\n",
       "      <td>Harry Potter and the Philosopher's Stone</td>\n",
       "      <td>...</td>\n",
       "      <td>4602479</td>\n",
       "      <td>4800065</td>\n",
       "      <td>75867</td>\n",
       "      <td>75504</td>\n",
       "      <td>101676</td>\n",
       "      <td>455024</td>\n",
       "      <td>1156318</td>\n",
       "      <td>3011543</td>\n",
       "      <td>https://images.gr-assets.com/books/1474154022m...</td>\n",
       "      <td>https://images.gr-assets.com/books/1474154022s...</td>\n",
       "    </tr>\n",
       "    <tr>\n",
       "      <th>2</th>\n",
       "      <td>3</td>\n",
       "      <td>41865</td>\n",
       "      <td>41865</td>\n",
       "      <td>3212258</td>\n",
       "      <td>226</td>\n",
       "      <td>316015849</td>\n",
       "      <td>9.780316e+12</td>\n",
       "      <td>Stephenie Meyer</td>\n",
       "      <td>2005.0</td>\n",
       "      <td>Twilight</td>\n",
       "      <td>...</td>\n",
       "      <td>3866839</td>\n",
       "      <td>3916824</td>\n",
       "      <td>95009</td>\n",
       "      <td>456191</td>\n",
       "      <td>436802</td>\n",
       "      <td>793319</td>\n",
       "      <td>875073</td>\n",
       "      <td>1355439</td>\n",
       "      <td>https://images.gr-assets.com/books/1361039443m...</td>\n",
       "      <td>https://images.gr-assets.com/books/1361039443s...</td>\n",
       "    </tr>\n",
       "    <tr>\n",
       "      <th>3</th>\n",
       "      <td>4</td>\n",
       "      <td>2657</td>\n",
       "      <td>2657</td>\n",
       "      <td>3275794</td>\n",
       "      <td>487</td>\n",
       "      <td>61120081</td>\n",
       "      <td>9.780061e+12</td>\n",
       "      <td>Harper Lee</td>\n",
       "      <td>1960.0</td>\n",
       "      <td>To Kill a Mockingbird</td>\n",
       "      <td>...</td>\n",
       "      <td>3198671</td>\n",
       "      <td>3340896</td>\n",
       "      <td>72586</td>\n",
       "      <td>60427</td>\n",
       "      <td>117415</td>\n",
       "      <td>446835</td>\n",
       "      <td>1001952</td>\n",
       "      <td>1714267</td>\n",
       "      <td>https://images.gr-assets.com/books/1361975680m...</td>\n",
       "      <td>https://images.gr-assets.com/books/1361975680s...</td>\n",
       "    </tr>\n",
       "    <tr>\n",
       "      <th>4</th>\n",
       "      <td>5</td>\n",
       "      <td>4671</td>\n",
       "      <td>4671</td>\n",
       "      <td>245494</td>\n",
       "      <td>1356</td>\n",
       "      <td>743273567</td>\n",
       "      <td>9.780743e+12</td>\n",
       "      <td>F. Scott Fitzgerald</td>\n",
       "      <td>1925.0</td>\n",
       "      <td>The Great Gatsby</td>\n",
       "      <td>...</td>\n",
       "      <td>2683664</td>\n",
       "      <td>2773745</td>\n",
       "      <td>51992</td>\n",
       "      <td>86236</td>\n",
       "      <td>197621</td>\n",
       "      <td>606158</td>\n",
       "      <td>936012</td>\n",
       "      <td>947718</td>\n",
       "      <td>https://images.gr-assets.com/books/1490528560m...</td>\n",
       "      <td>https://images.gr-assets.com/books/1490528560s...</td>\n",
       "    </tr>\n",
       "  </tbody>\n",
       "</table>\n",
       "<p>5 rows × 23 columns</p>\n",
       "</div>"
      ],
      "text/plain": [
       "   id  book_id  best_book_id  work_id  books_count       isbn        isbn13  \\\n",
       "0   1  2767052       2767052  2792775          272  439023483  9.780439e+12   \n",
       "1   2        3             3  4640799          491  439554934  9.780440e+12   \n",
       "2   3    41865         41865  3212258          226  316015849  9.780316e+12   \n",
       "3   4     2657          2657  3275794          487   61120081  9.780061e+12   \n",
       "4   5     4671          4671   245494         1356  743273567  9.780743e+12   \n",
       "\n",
       "                       authors  original_publication_year  \\\n",
       "0              Suzanne Collins                     2008.0   \n",
       "1  J.K. Rowling, Mary GrandPré                     1997.0   \n",
       "2              Stephenie Meyer                     2005.0   \n",
       "3                   Harper Lee                     1960.0   \n",
       "4          F. Scott Fitzgerald                     1925.0   \n",
       "\n",
       "                             original_title  \\\n",
       "0                          The Hunger Games   \n",
       "1  Harry Potter and the Philosopher's Stone   \n",
       "2                                  Twilight   \n",
       "3                     To Kill a Mockingbird   \n",
       "4                          The Great Gatsby   \n",
       "\n",
       "                         ...                         ratings_count  \\\n",
       "0                        ...                               4780653   \n",
       "1                        ...                               4602479   \n",
       "2                        ...                               3866839   \n",
       "3                        ...                               3198671   \n",
       "4                        ...                               2683664   \n",
       "\n",
       "  work_ratings_count  work_text_reviews_count  ratings_1  ratings_2  \\\n",
       "0            4942365                   155254      66715     127936   \n",
       "1            4800065                    75867      75504     101676   \n",
       "2            3916824                    95009     456191     436802   \n",
       "3            3340896                    72586      60427     117415   \n",
       "4            2773745                    51992      86236     197621   \n",
       "\n",
       "   ratings_3  ratings_4  ratings_5  \\\n",
       "0     560092    1481305    2706317   \n",
       "1     455024    1156318    3011543   \n",
       "2     793319     875073    1355439   \n",
       "3     446835    1001952    1714267   \n",
       "4     606158     936012     947718   \n",
       "\n",
       "                                           image_url  \\\n",
       "0  https://images.gr-assets.com/books/1447303603m...   \n",
       "1  https://images.gr-assets.com/books/1474154022m...   \n",
       "2  https://images.gr-assets.com/books/1361039443m...   \n",
       "3  https://images.gr-assets.com/books/1361975680m...   \n",
       "4  https://images.gr-assets.com/books/1490528560m...   \n",
       "\n",
       "                                     small_image_url  \n",
       "0  https://images.gr-assets.com/books/1447303603s...  \n",
       "1  https://images.gr-assets.com/books/1474154022s...  \n",
       "2  https://images.gr-assets.com/books/1361039443s...  \n",
       "3  https://images.gr-assets.com/books/1361975680s...  \n",
       "4  https://images.gr-assets.com/books/1490528560s...  \n",
       "\n",
       "[5 rows x 23 columns]"
      ]
     },
     "execution_count": 3,
     "metadata": {},
     "output_type": "execute_result"
    }
   ],
   "source": [
    "print(books.shape,'\\n')\n",
    "print(btags.tail(),btags.shape,'\\n')\n",
    "print(tags.tail(),tags.shape,'\\n')\n",
    "print(ratings.head(),ratings.shape,'\\n')\n",
    "books.head()\n"
   ]
  },
  {
   "cell_type": "code",
   "execution_count": 4,
   "metadata": {},
   "outputs": [],
   "source": [
    "ratings=ratings.sort_values('user_id')"
   ]
  },
  {
   "cell_type": "code",
   "execution_count": 5,
   "metadata": {},
   "outputs": [
    {
     "data": {
      "text/html": [
       "<div>\n",
       "<style scoped>\n",
       "    .dataframe tbody tr th:only-of-type {\n",
       "        vertical-align: middle;\n",
       "    }\n",
       "\n",
       "    .dataframe tbody tr th {\n",
       "        vertical-align: top;\n",
       "    }\n",
       "\n",
       "    .dataframe thead th {\n",
       "        text-align: right;\n",
       "    }\n",
       "</style>\n",
       "<table border=\"1\" class=\"dataframe\">\n",
       "  <thead>\n",
       "    <tr style=\"text-align: right;\">\n",
       "      <th></th>\n",
       "      <th>goodreads_book_id</th>\n",
       "      <th>tag_id</th>\n",
       "      <th>count</th>\n",
       "      <th>tag_name</th>\n",
       "    </tr>\n",
       "  </thead>\n",
       "  <tbody>\n",
       "    <tr>\n",
       "      <th>999907</th>\n",
       "      <td>31538635</td>\n",
       "      <td>14690</td>\n",
       "      <td>6</td>\n",
       "      <td>hogwarts</td>\n",
       "    </tr>\n",
       "    <tr>\n",
       "      <th>999908</th>\n",
       "      <td>32848471</td>\n",
       "      <td>16149</td>\n",
       "      <td>21</td>\n",
       "      <td>jan-2017</td>\n",
       "    </tr>\n",
       "    <tr>\n",
       "      <th>999909</th>\n",
       "      <td>33288638</td>\n",
       "      <td>27821</td>\n",
       "      <td>9</td>\n",
       "      <td>single-mom</td>\n",
       "    </tr>\n",
       "    <tr>\n",
       "      <th>999910</th>\n",
       "      <td>33288638</td>\n",
       "      <td>11478</td>\n",
       "      <td>7</td>\n",
       "      <td>fave-author</td>\n",
       "    </tr>\n",
       "    <tr>\n",
       "      <th>999911</th>\n",
       "      <td>33288638</td>\n",
       "      <td>27939</td>\n",
       "      <td>7</td>\n",
       "      <td>slowburn</td>\n",
       "    </tr>\n",
       "  </tbody>\n",
       "</table>\n",
       "</div>"
      ],
      "text/plain": [
       "        goodreads_book_id  tag_id  count     tag_name\n",
       "999907           31538635   14690      6     hogwarts\n",
       "999908           32848471   16149     21     jan-2017\n",
       "999909           33288638   27821      9   single-mom\n",
       "999910           33288638   11478      7  fave-author\n",
       "999911           33288638   27939      7     slowburn"
      ]
     },
     "execution_count": 5,
     "metadata": {},
     "output_type": "execute_result"
    }
   ],
   "source": [
    "tag_joint=pd.merge(tags,btags,left_on='tag_id',right_on='tag_id')\n",
    "tag_joint.tail()"
   ]
  },
  {
   "cell_type": "code",
   "execution_count": 6,
   "metadata": {},
   "outputs": [
    {
     "data": {
      "text/html": [
       "<div>\n",
       "<style scoped>\n",
       "    .dataframe tbody tr th:only-of-type {\n",
       "        vertical-align: middle;\n",
       "    }\n",
       "\n",
       "    .dataframe tbody tr th {\n",
       "        vertical-align: top;\n",
       "    }\n",
       "\n",
       "    .dataframe thead th {\n",
       "        text-align: right;\n",
       "    }\n",
       "</style>\n",
       "<table border=\"1\" class=\"dataframe\">\n",
       "  <thead>\n",
       "    <tr style=\"text-align: right;\">\n",
       "      <th></th>\n",
       "      <th>book_id</th>\n",
       "      <th>user_id</th>\n",
       "      <th>rating</th>\n",
       "    </tr>\n",
       "  </thead>\n",
       "  <tbody>\n",
       "    <tr>\n",
       "      <th>117889</th>\n",
       "      <td>1180</td>\n",
       "      <td>1</td>\n",
       "      <td>4</td>\n",
       "    </tr>\n",
       "    <tr>\n",
       "      <th>488112</th>\n",
       "      <td>4893</td>\n",
       "      <td>1</td>\n",
       "      <td>3</td>\n",
       "    </tr>\n",
       "    <tr>\n",
       "      <th>625717</th>\n",
       "      <td>6285</td>\n",
       "      <td>1</td>\n",
       "      <td>4</td>\n",
       "    </tr>\n",
       "    <tr>\n",
       "      <th>796318</th>\n",
       "      <td>8034</td>\n",
       "      <td>2</td>\n",
       "      <td>4</td>\n",
       "    </tr>\n",
       "    <tr>\n",
       "      <th>875008</th>\n",
       "      <td>8855</td>\n",
       "      <td>2</td>\n",
       "      <td>5</td>\n",
       "    </tr>\n",
       "  </tbody>\n",
       "</table>\n",
       "</div>"
      ],
      "text/plain": [
       "        book_id  user_id  rating\n",
       "117889     1180        1       4\n",
       "488112     4893        1       3\n",
       "625717     6285        1       4\n",
       "796318     8034        2       4\n",
       "875008     8855        2       5"
      ]
     },
     "execution_count": 6,
     "metadata": {},
     "output_type": "execute_result"
    }
   ],
   "source": [
    "ratings.head()"
   ]
  },
  {
   "cell_type": "code",
   "execution_count": 7,
   "metadata": {},
   "outputs": [],
   "source": [
    "ratings.drop_duplicates(['user_id','book_id'], inplace=True)\n",
    "books.drop_duplicates('original_title', inplace=True)\n",
    "btags.drop_duplicates('tag_name', inplace=True)\n",
    "tags.drop_duplicates(['tag_id','goodreads_book_id'], inplace=True)\n"
   ]
  },
  {
   "cell_type": "code",
   "execution_count": 8,
   "metadata": {},
   "outputs": [
    {
     "name": "stdout",
     "output_type": "stream",
     "text": [
      "(979478, 3)\n",
      "(9275, 23)\n",
      "(34252, 2)\n",
      "(999904, 3)\n"
     ]
    }
   ],
   "source": [
    "print(ratings.shape)\n",
    "print(books.shape)\n",
    "print(btags.shape)\n",
    "print(tags.shape)\n",
    "\n"
   ]
  },
  {
   "cell_type": "markdown",
   "metadata": {},
   "source": [
    "### Visualizing Data"
   ]
  },
  {
   "cell_type": "code",
   "execution_count": 9,
   "metadata": {},
   "outputs": [],
   "source": [
    "books['total_rating']=books['ratings_1']+books['ratings_5']+books['ratings_2']+books['ratings_3']+books['ratings_5']"
   ]
  },
  {
   "cell_type": "code",
   "execution_count": 10,
   "metadata": {},
   "outputs": [
    {
     "data": {
      "text/plain": [
       "1     Harry Potter and the Philosopher's Stone\n",
       "0                             The Hunger Games\n",
       "2                                     Twilight\n",
       "3                        To Kill a Mockingbird\n",
       "5                       The Fault in Our Stars\n",
       "4                             The Great Gatsby\n",
       "24        Harry Potter and the Deathly Hallows\n",
       "9                          Pride and Prejudice\n",
       "17    Harry Potter and the Prisoner of Azkaban\n",
       "11                                   Divergent\n",
       "Name: original_title, dtype: object"
      ]
     },
     "execution_count": 10,
     "metadata": {},
     "output_type": "execute_result"
    }
   ],
   "source": [
    "# Most popupar\n",
    "books.sort_values('total_rating',ascending=False)['original_title'].head(10)"
   ]
  },
  {
   "cell_type": "code",
   "execution_count": 11,
   "metadata": {},
   "outputs": [],
   "source": [
    "# most rated\n",
    "books['total_rating']=books['ratings_1']+books['ratings_5']+books['ratings_2']+books['ratings_3']+books['ratings_5']"
   ]
  },
  {
   "cell_type": "code",
   "execution_count": 12,
   "metadata": {},
   "outputs": [],
   "source": [
    "#highly rated books\n",
    "top_rated=books.sort_values('average_rating', ascending=False)\n",
    "top10=top_rated.head(10)\n",
    "f=['title','small_image_url']\n",
    "displ=(top10[f])\n",
    "displ.set_index('title', inplace=True)"
   ]
  },
  {
   "cell_type": "code",
   "execution_count": 13,
   "metadata": {},
   "outputs": [
    {
     "data": {
      "text/html": [
       "<div>\n",
       "<style scoped>\n",
       "    .dataframe tbody tr th:only-of-type {\n",
       "        vertical-align: middle;\n",
       "    }\n",
       "\n",
       "    .dataframe tbody tr th {\n",
       "        vertical-align: top;\n",
       "    }\n",
       "\n",
       "    .dataframe thead th {\n",
       "        text-align: right;\n",
       "    }\n",
       "</style>\n",
       "<table border=\"1\" class=\"dataframe\">\n",
       "  <thead>\n",
       "    <tr style=\"text-align: right;\">\n",
       "      <th></th>\n",
       "      <th>id</th>\n",
       "      <th>book_id</th>\n",
       "      <th>best_book_id</th>\n",
       "      <th>work_id</th>\n",
       "      <th>books_count</th>\n",
       "      <th>isbn</th>\n",
       "      <th>isbn13</th>\n",
       "      <th>authors</th>\n",
       "      <th>original_publication_year</th>\n",
       "      <th>original_title</th>\n",
       "      <th>...</th>\n",
       "      <th>work_ratings_count</th>\n",
       "      <th>work_text_reviews_count</th>\n",
       "      <th>ratings_1</th>\n",
       "      <th>ratings_2</th>\n",
       "      <th>ratings_3</th>\n",
       "      <th>ratings_4</th>\n",
       "      <th>ratings_5</th>\n",
       "      <th>image_url</th>\n",
       "      <th>small_image_url</th>\n",
       "      <th>total_rating</th>\n",
       "    </tr>\n",
       "  </thead>\n",
       "  <tbody>\n",
       "    <tr>\n",
       "      <th>3627</th>\n",
       "      <td>3628</td>\n",
       "      <td>24812</td>\n",
       "      <td>24812</td>\n",
       "      <td>25599</td>\n",
       "      <td>14</td>\n",
       "      <td>740748475</td>\n",
       "      <td>9.780741e+12</td>\n",
       "      <td>Bill Watterson</td>\n",
       "      <td>2005.0</td>\n",
       "      <td>The Complete Calvin and Hobbes</td>\n",
       "      <td>...</td>\n",
       "      <td>29968</td>\n",
       "      <td>861</td>\n",
       "      <td>120</td>\n",
       "      <td>154</td>\n",
       "      <td>693</td>\n",
       "      <td>3117</td>\n",
       "      <td>25884</td>\n",
       "      <td>https://images.gr-assets.com/books/1473064526m...</td>\n",
       "      <td>https://images.gr-assets.com/books/1473064526s...</td>\n",
       "      <td>52735</td>\n",
       "    </tr>\n",
       "    <tr>\n",
       "      <th>861</th>\n",
       "      <td>862</td>\n",
       "      <td>17332218</td>\n",
       "      <td>17332218</td>\n",
       "      <td>16482835</td>\n",
       "      <td>34</td>\n",
       "      <td>765326361</td>\n",
       "      <td>9.780765e+12</td>\n",
       "      <td>Brandon Sanderson</td>\n",
       "      <td>2014.0</td>\n",
       "      <td>Words of Radiance</td>\n",
       "      <td>...</td>\n",
       "      <td>108176</td>\n",
       "      <td>7261</td>\n",
       "      <td>154</td>\n",
       "      <td>404</td>\n",
       "      <td>2653</td>\n",
       "      <td>18272</td>\n",
       "      <td>86693</td>\n",
       "      <td>https://images.gr-assets.com/books/1391535251m...</td>\n",
       "      <td>https://images.gr-assets.com/books/1391535251s...</td>\n",
       "      <td>176597</td>\n",
       "    </tr>\n",
       "    <tr>\n",
       "      <th>8853</th>\n",
       "      <td>8854</td>\n",
       "      <td>95602</td>\n",
       "      <td>95602</td>\n",
       "      <td>920037</td>\n",
       "      <td>6</td>\n",
       "      <td>842339523</td>\n",
       "      <td>9.780842e+12</td>\n",
       "      <td>Francine Rivers</td>\n",
       "      <td>1993.0</td>\n",
       "      <td>Mark of the Lion Trilogy</td>\n",
       "      <td>...</td>\n",
       "      <td>9547</td>\n",
       "      <td>731</td>\n",
       "      <td>27</td>\n",
       "      <td>61</td>\n",
       "      <td>323</td>\n",
       "      <td>1363</td>\n",
       "      <td>7773</td>\n",
       "      <td>https://images.gr-assets.com/books/1349032180m...</td>\n",
       "      <td>https://images.gr-assets.com/books/1349032180s...</td>\n",
       "      <td>15957</td>\n",
       "    </tr>\n",
       "    <tr>\n",
       "      <th>4482</th>\n",
       "      <td>4483</td>\n",
       "      <td>24814</td>\n",
       "      <td>24814</td>\n",
       "      <td>25601</td>\n",
       "      <td>21</td>\n",
       "      <td>836221362</td>\n",
       "      <td>9.780836e+12</td>\n",
       "      <td>Bill Watterson</td>\n",
       "      <td>1996.0</td>\n",
       "      <td>It's a Magical World: A Calvin and Hobbes Coll...</td>\n",
       "      <td>...</td>\n",
       "      <td>23429</td>\n",
       "      <td>264</td>\n",
       "      <td>36</td>\n",
       "      <td>57</td>\n",
       "      <td>850</td>\n",
       "      <td>3737</td>\n",
       "      <td>18749</td>\n",
       "      <td>https://images.gr-assets.com/books/1437420710m...</td>\n",
       "      <td>https://images.gr-assets.com/books/1437420710s...</td>\n",
       "      <td>38441</td>\n",
       "    </tr>\n",
       "    <tr>\n",
       "      <th>421</th>\n",
       "      <td>422</td>\n",
       "      <td>862041</td>\n",
       "      <td>862041</td>\n",
       "      <td>2962492</td>\n",
       "      <td>76</td>\n",
       "      <td>545044251</td>\n",
       "      <td>9.780545e+12</td>\n",
       "      <td>J.K. Rowling</td>\n",
       "      <td>1998.0</td>\n",
       "      <td>Complete Harry Potter Boxed Set</td>\n",
       "      <td>...</td>\n",
       "      <td>204125</td>\n",
       "      <td>6508</td>\n",
       "      <td>1105</td>\n",
       "      <td>1285</td>\n",
       "      <td>7020</td>\n",
       "      <td>30666</td>\n",
       "      <td>164049</td>\n",
       "      <td>https://images.gr-assets.com/books/1392579059m...</td>\n",
       "      <td>https://images.gr-assets.com/books/1392579059s...</td>\n",
       "      <td>337508</td>\n",
       "    </tr>\n",
       "  </tbody>\n",
       "</table>\n",
       "<p>5 rows × 24 columns</p>\n",
       "</div>"
      ],
      "text/plain": [
       "        id   book_id  best_book_id   work_id  books_count       isbn  \\\n",
       "3627  3628     24812         24812     25599           14  740748475   \n",
       "861    862  17332218      17332218  16482835           34  765326361   \n",
       "8853  8854     95602         95602    920037            6  842339523   \n",
       "4482  4483     24814         24814     25601           21  836221362   \n",
       "421    422    862041        862041   2962492           76  545044251   \n",
       "\n",
       "            isbn13            authors  original_publication_year  \\\n",
       "3627  9.780741e+12     Bill Watterson                     2005.0   \n",
       "861   9.780765e+12  Brandon Sanderson                     2014.0   \n",
       "8853  9.780842e+12    Francine Rivers                     1993.0   \n",
       "4482  9.780836e+12     Bill Watterson                     1996.0   \n",
       "421   9.780545e+12       J.K. Rowling                     1998.0   \n",
       "\n",
       "                                         original_title      ...       \\\n",
       "3627                     The Complete Calvin and Hobbes      ...        \n",
       "861                                   Words of Radiance      ...        \n",
       "8853                           Mark of the Lion Trilogy      ...        \n",
       "4482  It's a Magical World: A Calvin and Hobbes Coll...      ...        \n",
       "421                     Complete Harry Potter Boxed Set      ...        \n",
       "\n",
       "     work_ratings_count work_text_reviews_count  ratings_1  ratings_2  \\\n",
       "3627              29968                     861        120        154   \n",
       "861              108176                    7261        154        404   \n",
       "8853               9547                     731         27         61   \n",
       "4482              23429                     264         36         57   \n",
       "421              204125                    6508       1105       1285   \n",
       "\n",
       "      ratings_3  ratings_4  ratings_5  \\\n",
       "3627        693       3117      25884   \n",
       "861        2653      18272      86693   \n",
       "8853        323       1363       7773   \n",
       "4482        850       3737      18749   \n",
       "421        7020      30666     164049   \n",
       "\n",
       "                                              image_url  \\\n",
       "3627  https://images.gr-assets.com/books/1473064526m...   \n",
       "861   https://images.gr-assets.com/books/1391535251m...   \n",
       "8853  https://images.gr-assets.com/books/1349032180m...   \n",
       "4482  https://images.gr-assets.com/books/1437420710m...   \n",
       "421   https://images.gr-assets.com/books/1392579059m...   \n",
       "\n",
       "                                        small_image_url  total_rating  \n",
       "3627  https://images.gr-assets.com/books/1473064526s...         52735  \n",
       "861   https://images.gr-assets.com/books/1391535251s...        176597  \n",
       "8853  https://images.gr-assets.com/books/1349032180s...         15957  \n",
       "4482  https://images.gr-assets.com/books/1437420710s...         38441  \n",
       "421   https://images.gr-assets.com/books/1392579059s...        337508  \n",
       "\n",
       "[5 rows x 24 columns]"
      ]
     },
     "execution_count": 13,
     "metadata": {},
     "output_type": "execute_result"
    }
   ],
   "source": [
    "top_rated[:5]"
   ]
  },
  {
   "cell_type": "code",
   "execution_count": 14,
   "metadata": {
    "scrolled": true
   },
   "outputs": [
    {
     "data": {
      "text/plain": [
       "3627    4.82\n",
       "861     4.77\n",
       "8853    4.76\n",
       "4482    4.75\n",
       "421     4.74\n",
       "6360    4.74\n",
       "3752    4.73\n",
       "6589    4.73\n",
       "6919    4.73\n",
       "1307    4.72\n",
       "Name: average_rating, dtype: float64"
      ]
     },
     "execution_count": 14,
     "metadata": {},
     "output_type": "execute_result"
    }
   ],
   "source": [
    "top_rated['average_rating'][:10]"
   ]
  },
  {
   "cell_type": "code",
   "execution_count": 15,
   "metadata": {},
   "outputs": [
    {
     "data": {
      "text/plain": [
       "Index(['id', 'book_id', 'best_book_id', 'work_id', 'books_count', 'isbn',\n",
       "       'isbn13', 'authors', 'original_publication_year', 'original_title',\n",
       "       'title', 'language_code', 'average_rating', 'ratings_count',\n",
       "       'work_ratings_count', 'work_text_reviews_count', 'ratings_1',\n",
       "       'ratings_2', 'ratings_3', 'ratings_4', 'ratings_5', 'image_url',\n",
       "       'small_image_url', 'total_rating'],\n",
       "      dtype='object')"
      ]
     },
     "execution_count": 15,
     "metadata": {},
     "output_type": "execute_result"
    }
   ],
   "source": [
    "books.columns"
   ]
  },
  {
   "cell_type": "code",
   "execution_count": 16,
   "metadata": {},
   "outputs": [
    {
     "data": {
      "text/plain": [
       "<matplotlib.axes._subplots.AxesSubplot at 0x28f62836160>"
      ]
     },
     "execution_count": 16,
     "metadata": {},
     "output_type": "execute_result"
    },
    {
     "data": {
      "image/png": "[encoded data removed]",
      "text/plain": [
       "<matplotlib.figure.Figure at 0x28f5edaedd8>"
      ]
     },
     "metadata": {},
     "output_type": "display_data"
    }
   ],
   "source": [
    "sns.distplot(a=books['average_rating'], kde=True, color='r')"
   ]
  },
  {
   "cell_type": "code",
   "execution_count": 17,
   "metadata": {},
   "outputs": [
    {
     "data": {
      "text/html": [
       "<div>\n",
       "<style scoped>\n",
       "    .dataframe tbody tr th:only-of-type {\n",
       "        vertical-align: middle;\n",
       "    }\n",
       "\n",
       "    .dataframe tbody tr th {\n",
       "        vertical-align: top;\n",
       "    }\n",
       "\n",
       "    .dataframe thead th {\n",
       "        text-align: right;\n",
       "    }\n",
       "</style>\n",
       "<table border=\"1\" class=\"dataframe\">\n",
       "  <thead>\n",
       "    <tr style=\"text-align: right;\">\n",
       "      <th></th>\n",
       "      <th>user_id</th>\n",
       "      <th>rating</th>\n",
       "    </tr>\n",
       "    <tr>\n",
       "      <th>book_id</th>\n",
       "      <th></th>\n",
       "      <th></th>\n",
       "    </tr>\n",
       "  </thead>\n",
       "  <tbody>\n",
       "    <tr>\n",
       "      <th>1</th>\n",
       "      <td>100</td>\n",
       "      <td>100</td>\n",
       "    </tr>\n",
       "    <tr>\n",
       "      <th>4931</th>\n",
       "      <td>100</td>\n",
       "      <td>100</td>\n",
       "    </tr>\n",
       "    <tr>\n",
       "      <th>4927</th>\n",
       "      <td>100</td>\n",
       "      <td>100</td>\n",
       "    </tr>\n",
       "    <tr>\n",
       "      <th>4925</th>\n",
       "      <td>100</td>\n",
       "      <td>100</td>\n",
       "    </tr>\n",
       "    <tr>\n",
       "      <th>4922</th>\n",
       "      <td>100</td>\n",
       "      <td>100</td>\n",
       "    </tr>\n",
       "    <tr>\n",
       "      <th>4920</th>\n",
       "      <td>100</td>\n",
       "      <td>100</td>\n",
       "    </tr>\n",
       "    <tr>\n",
       "      <th>4917</th>\n",
       "      <td>100</td>\n",
       "      <td>100</td>\n",
       "    </tr>\n",
       "    <tr>\n",
       "      <th>4915</th>\n",
       "      <td>100</td>\n",
       "      <td>100</td>\n",
       "    </tr>\n",
       "    <tr>\n",
       "      <th>4910</th>\n",
       "      <td>100</td>\n",
       "      <td>100</td>\n",
       "    </tr>\n",
       "    <tr>\n",
       "      <th>4909</th>\n",
       "      <td>100</td>\n",
       "      <td>100</td>\n",
       "    </tr>\n",
       "  </tbody>\n",
       "</table>\n",
       "</div>"
      ],
      "text/plain": [
       "         user_id  rating\n",
       "book_id                 \n",
       "1            100     100\n",
       "4931         100     100\n",
       "4927         100     100\n",
       "4925         100     100\n",
       "4922         100     100\n",
       "4920         100     100\n",
       "4917         100     100\n",
       "4915         100     100\n",
       "4910         100     100\n",
       "4909         100     100"
      ]
     },
     "execution_count": 17,
     "metadata": {},
     "output_type": "execute_result"
    }
   ],
   "source": [
    "# Most rated\n",
    "ratings.groupby('book_id').count().sort_values('rating',ascending=False).head(10)"
   ]
  },
  {
   "cell_type": "code",
   "execution_count": 18,
   "metadata": {},
   "outputs": [
    {
     "name": "stdout",
     "output_type": "stream",
     "text": [
      "low rating\n"
     ]
    },
    {
     "data": {
      "text/html": [
       "<div>\n",
       "<style scoped>\n",
       "    .dataframe tbody tr th:only-of-type {\n",
       "        vertical-align: middle;\n",
       "    }\n",
       "\n",
       "    .dataframe tbody tr th {\n",
       "        vertical-align: top;\n",
       "    }\n",
       "\n",
       "    .dataframe thead th {\n",
       "        text-align: right;\n",
       "    }\n",
       "</style>\n",
       "<table border=\"1\" class=\"dataframe\">\n",
       "  <thead>\n",
       "    <tr style=\"text-align: right;\">\n",
       "      <th></th>\n",
       "      <th>user_id</th>\n",
       "      <th>rating</th>\n",
       "    </tr>\n",
       "    <tr>\n",
       "      <th>book_id</th>\n",
       "      <th></th>\n",
       "      <th></th>\n",
       "    </tr>\n",
       "  </thead>\n",
       "  <tbody>\n",
       "    <tr>\n",
       "      <th>9705</th>\n",
       "      <td>48</td>\n",
       "      <td>48</td>\n",
       "    </tr>\n",
       "    <tr>\n",
       "      <th>9479</th>\n",
       "      <td>47</td>\n",
       "      <td>47</td>\n",
       "    </tr>\n",
       "    <tr>\n",
       "      <th>9260</th>\n",
       "      <td>46</td>\n",
       "      <td>46</td>\n",
       "    </tr>\n",
       "    <tr>\n",
       "      <th>8181</th>\n",
       "      <td>44</td>\n",
       "      <td>44</td>\n",
       "    </tr>\n",
       "    <tr>\n",
       "      <th>9553</th>\n",
       "      <td>41</td>\n",
       "      <td>41</td>\n",
       "    </tr>\n",
       "    <tr>\n",
       "      <th>9315</th>\n",
       "      <td>36</td>\n",
       "      <td>36</td>\n",
       "    </tr>\n",
       "    <tr>\n",
       "      <th>1935</th>\n",
       "      <td>33</td>\n",
       "      <td>33</td>\n",
       "    </tr>\n",
       "    <tr>\n",
       "      <th>9486</th>\n",
       "      <td>24</td>\n",
       "      <td>24</td>\n",
       "    </tr>\n",
       "    <tr>\n",
       "      <th>9345</th>\n",
       "      <td>11</td>\n",
       "      <td>11</td>\n",
       "    </tr>\n",
       "    <tr>\n",
       "      <th>7803</th>\n",
       "      <td>8</td>\n",
       "      <td>8</td>\n",
       "    </tr>\n",
       "  </tbody>\n",
       "</table>\n",
       "</div>"
      ],
      "text/plain": [
       "         user_id  rating\n",
       "book_id                 \n",
       "9705          48      48\n",
       "9479          47      47\n",
       "9260          46      46\n",
       "8181          44      44\n",
       "9553          41      41\n",
       "9315          36      36\n",
       "1935          33      33\n",
       "9486          24      24\n",
       "9345          11      11\n",
       "7803           8       8"
      ]
     },
     "execution_count": 18,
     "metadata": {},
     "output_type": "execute_result"
    }
   ],
   "source": [
    "print('low rating')\n",
    "ratings.groupby('book_id').count().sort_values('rating',ascending=False).tail(10)"
   ]
  },
  {
   "cell_type": "code",
   "execution_count": 19,
   "metadata": {},
   "outputs": [
    {
     "data": {
      "text/plain": [
       "<matplotlib.axes._subplots.AxesSubplot at 0x28f62a88fd0>"
      ]
     },
     "execution_count": 19,
     "metadata": {},
     "output_type": "execute_result"
    },
    {
     "data": {
      "image/png": "[encoded data removed]",
      "text/plain": [
       "<matplotlib.figure.Figure at 0x28f62a7dd68>"
      ]
     },
     "metadata": {},
     "output_type": "display_data"
    }
   ],
   "source": [
    "a=ratings.groupby('book_id').count().sort_values('rating',ascending=False)\n",
    "sns.distplot(a['rating'])"
   ]
  },
  {
   "cell_type": "code",
   "execution_count": 20,
   "metadata": {},
   "outputs": [],
   "source": [
    "# Highly rated Authors\n",
    "top_rated=books.sort_values('total_rating', ascending=False)\n",
    "top10=top_rated.head(10)\n",
    "f=['title','small_image_url','authors']\n",
    "displ=(top10[f])\n",
    "displ.set_index('authors', inplace=True)"
   ]
  },
  {
   "cell_type": "code",
   "execution_count": null,
   "metadata": {},
   "outputs": [],
   "source": []
  },
  {
   "cell_type": "code",
   "execution_count": 21,
   "metadata": {
    "scrolled": true
   },
   "outputs": [
    {
     "data": {
      "text/plain": [
       "<matplotlib.axes._subplots.AxesSubplot at 0x28f62ab5278>"
      ]
     },
     "execution_count": 21,
     "metadata": {},
     "output_type": "execute_result"
    },
    {
     "data": {
      "image/png": "[encoded data removed]",
      "text/plain": [
       "<matplotlib.figure.Figure at 0x28f62a88f60>"
      ]
     },
     "metadata": {},
     "output_type": "display_data"
    }
   ],
   "source": [
    "a=top_rated[['authors','average_rating']][:20]\n",
    "a.plot.bar('authors','average_rating')"
   ]
  },
  {
   "cell_type": "code",
   "execution_count": 22,
   "metadata": {},
   "outputs": [],
   "source": [
    "p=tag_joint.groupby('tag_name').count()"
   ]
  },
  {
   "cell_type": "code",
   "execution_count": 23,
   "metadata": {},
   "outputs": [
    {
     "data": {
      "text/html": [
       "<div>\n",
       "<style scoped>\n",
       "    .dataframe tbody tr th:only-of-type {\n",
       "        vertical-align: middle;\n",
       "    }\n",
       "\n",
       "    .dataframe tbody tr th {\n",
       "        vertical-align: top;\n",
       "    }\n",
       "\n",
       "    .dataframe thead th {\n",
       "        text-align: right;\n",
       "    }\n",
       "</style>\n",
       "<table border=\"1\" class=\"dataframe\">\n",
       "  <thead>\n",
       "    <tr style=\"text-align: right;\">\n",
       "      <th></th>\n",
       "      <th>goodreads_book_id</th>\n",
       "      <th>tag_id</th>\n",
       "      <th>count</th>\n",
       "    </tr>\n",
       "    <tr>\n",
       "      <th>tag_name</th>\n",
       "      <th></th>\n",
       "      <th></th>\n",
       "      <th></th>\n",
       "    </tr>\n",
       "  </thead>\n",
       "  <tbody>\n",
       "    <tr>\n",
       "      <th>to-read</th>\n",
       "      <td>9983</td>\n",
       "      <td>9983</td>\n",
       "      <td>9983</td>\n",
       "    </tr>\n",
       "    <tr>\n",
       "      <th>favorites</th>\n",
       "      <td>9881</td>\n",
       "      <td>9881</td>\n",
       "      <td>9881</td>\n",
       "    </tr>\n",
       "    <tr>\n",
       "      <th>owned</th>\n",
       "      <td>9858</td>\n",
       "      <td>9858</td>\n",
       "      <td>9858</td>\n",
       "    </tr>\n",
       "    <tr>\n",
       "      <th>books-i-own</th>\n",
       "      <td>9799</td>\n",
       "      <td>9799</td>\n",
       "      <td>9799</td>\n",
       "    </tr>\n",
       "    <tr>\n",
       "      <th>currently-reading</th>\n",
       "      <td>9776</td>\n",
       "      <td>9776</td>\n",
       "      <td>9776</td>\n",
       "    </tr>\n",
       "    <tr>\n",
       "      <th>library</th>\n",
       "      <td>9415</td>\n",
       "      <td>9415</td>\n",
       "      <td>9415</td>\n",
       "    </tr>\n",
       "    <tr>\n",
       "      <th>owned-books</th>\n",
       "      <td>9221</td>\n",
       "      <td>9221</td>\n",
       "      <td>9221</td>\n",
       "    </tr>\n",
       "    <tr>\n",
       "      <th>fiction</th>\n",
       "      <td>9097</td>\n",
       "      <td>9097</td>\n",
       "      <td>9097</td>\n",
       "    </tr>\n",
       "    <tr>\n",
       "      <th>to-buy</th>\n",
       "      <td>8692</td>\n",
       "      <td>8692</td>\n",
       "      <td>8692</td>\n",
       "    </tr>\n",
       "    <tr>\n",
       "      <th>kindle</th>\n",
       "      <td>8316</td>\n",
       "      <td>8316</td>\n",
       "      <td>8316</td>\n",
       "    </tr>\n",
       "  </tbody>\n",
       "</table>\n",
       "</div>"
      ],
      "text/plain": [
       "                   goodreads_book_id  tag_id  count\n",
       "tag_name                                           \n",
       "to-read                         9983    9983   9983\n",
       "favorites                       9881    9881   9881\n",
       "owned                           9858    9858   9858\n",
       "books-i-own                     9799    9799   9799\n",
       "currently-reading               9776    9776   9776\n",
       "library                         9415    9415   9415\n",
       "owned-books                     9221    9221   9221\n",
       "fiction                         9097    9097   9097\n",
       "to-buy                          8692    8692   8692\n",
       "kindle                          8316    8316   8316"
      ]
     },
     "execution_count": 23,
     "metadata": {},
     "output_type": "execute_result"
    }
   ],
   "source": [
    "p.sort_values('count',ascending=False).head(10)"
   ]
  },
  {
   "cell_type": "code",
   "execution_count": 24,
   "metadata": {},
   "outputs": [],
   "source": [
    "genres=[\"Art\",\"Auto biograghy\", \"fashion\",\"action\",\"Marriage\",\"wealth\",\"Family\",\"war\",\"travel\",\"academic\",\"health\",\"politics\",\"Biography\", \"Business\",\n",
    "        \"Chick Lit\", \"Children's\", \"Christian\", \"Classics\", \"Comics\", \"Contemporary\", \"Cookbooks\",\n",
    "        \"Crime\", \"Ebooks\", \"Fantasy\", \"Fiction\", \"Gay and Lesbian\", \"Graphic Novels\", \"Historical Fiction\", \"History\", \"Horror\", \"Humor and Comedy\",\n",
    "        \"Manga\", \"Memoir\", \"Music\", \"Mystery\", \"Nonfiction\", \"Paranormal\", \"Philosophy\", \"Poetry\", \"Psychology\", \"Religion\", \"Romance\", \"Science\",\n",
    "        \"Science Fiction\", \"Self Help\", \"Suspense\", \"Spirituality\", \"Sports\", \"Thriller\", \"Travel\", \"Young Adult\"\n",
    "       \"law\",\"finance\",\"food\",\"astromony\",\"music\",\"africa\",\"nigeria\",\"agriculture\"]\n",
    "for i in range(len(genres)):\n",
    "    genres[i]=genres[i].lower()"
   ]
  },
  {
   "cell_type": "code",
   "execution_count": 25,
   "metadata": {},
   "outputs": [],
   "source": [
    "new_tags=p[p.index.isin(genres)]"
   ]
  },
  {
   "cell_type": "code",
   "execution_count": 26,
   "metadata": {},
   "outputs": [],
   "source": [
    "new_tags=new_tags.sort_values('count',ascending=False)"
   ]
  },
  {
   "cell_type": "code",
   "execution_count": 27,
   "metadata": {},
   "outputs": [],
   "source": [
    "from sklearn import preprocessing\n",
    "\n",
    "x = books[['total_rating','books_count']]\n",
    "min_max_scaler = preprocessing.MinMaxScaler()\n",
    "x_scaled = min_max_scaler.fit_transform(x)\n",
    "df_rating = pd.DataFrame(x_scaled)"
   ]
  },
  {
   "cell_type": "code",
   "execution_count": 28,
   "metadata": {},
   "outputs": [
    {
     "data": {
      "text/plain": [
       "<matplotlib.axes._subplots.AxesSubplot at 0x28f62d64c50>"
      ]
     },
     "execution_count": 28,
     "metadata": {},
     "output_type": "execute_result"
    },
    {
     "data": {
      "image/png": "[encoded data removed]",
      "text/plain": [
       "<matplotlib.figure.Figure at 0x28f62c4ea90>"
      ]
     },
     "metadata": {},
     "output_type": "display_data"
    }
   ],
   "source": [
    "import matplotlib.pyplot as plt\n",
    "plt.figure(figsize=(40,8))\n",
    "ax=sns.barplot(new_tags.index,new_tags['count'])\n",
    "ax"
   ]
  },
  {
   "cell_type": "code",
   "execution_count": null,
   "metadata": {},
   "outputs": [],
   "source": []
  },
  {
   "cell_type": "code",
   "execution_count": 29,
   "metadata": {},
   "outputs": [
    {
     "name": "stdout",
     "output_type": "stream",
     "text": [
      "          0         1\n",
      "0  1.000000  0.313256\n",
      "1  0.313256  1.000000 \n",
      "\n"
     ]
    },
    {
     "data": {
      "text/plain": [
       "<seaborn.axisgrid.FacetGrid at 0x28f62e096d8>"
      ]
     },
     "execution_count": 29,
     "metadata": {},
     "output_type": "execute_result"
    },
    {
     "data": {
      "text/plain": [
       "<matplotlib.figure.Figure at 0x28f62c4ec18>"
      ]
     },
     "metadata": {},
     "output_type": "display_data"
    },
    {
     "data": {
      "image/png": "[encoded data removed]",
      "text/plain": [
       "<matplotlib.figure.Figure at 0x28f62c2fd68>"
      ]
     },
     "metadata": {},
     "output_type": "display_data"
    }
   ],
   "source": [
    "# Analysing the relation between no of editions and amount of ratings\n",
    "print(df_rating.corr(),'\\n')\n",
    "plt.figure(figsize=(15,8))\n",
    "ax=sns.lmplot(x='total_rating',y='books_count',data=books)\n",
    "ax"
   ]
  },
  {
   "cell_type": "code",
   "execution_count": 30,
   "metadata": {
    "scrolled": false
   },
   "outputs": [
    {
     "name": "stdout",
     "output_type": "stream",
     "text": [
      "          0         1\n",
      "0  1.000000 -0.070765\n",
      "1 -0.070765  1.000000 \n",
      "\n"
     ]
    },
    {
     "data": {
      "text/plain": [
       "<matplotlib.figure.Figure at 0x28f62dea550>"
      ]
     },
     "metadata": {},
     "output_type": "display_data"
    },
    {
     "data": {
      "image/png": "[encoded data removed]",
      "text/plain": [
       "<matplotlib.figure.Figure at 0x28f62c4ea58>"
      ]
     },
     "metadata": {},
     "output_type": "display_data"
    }
   ],
   "source": [
    "# Analysing the relation between no of editions and average ratings\n",
    "\n",
    "y = books[['average_rating','books_count']]\n",
    "min_max_scaler = preprocessing.MinMaxScaler()\n",
    "x_scaled = min_max_scaler.fit_transform(y)\n",
    "df_avg_rating = pd.DataFrame(x_scaled)\n",
    "print(df_avg_rating.corr(),'\\n')\n",
    "plt.figure(figsize=(15,8))\n",
    "ax=sns.lmplot(x='average_rating',y='books_count',data=books)\n"
   ]
  },
  {
   "cell_type": "markdown",
   "metadata": {},
   "source": [
    "### Analysis of Title"
   ]
  },
  {
   "cell_type": "code",
   "execution_count": 31,
   "metadata": {},
   "outputs": [],
   "source": [
    "import numpy as np\n",
    "books=books.dropna()\n",
    "books['title_length']=books['original_title'].apply(lambda x: len(x))\n",
    "books['title_length']=books['title_length'].apply(np.int64)\n",
    "books['original_title']=books['original_title'].apply(lambda x: len(x.split(' ')))\n"
   ]
  },
  {
   "cell_type": "code",
   "execution_count": 32,
   "metadata": {},
   "outputs": [
    {
     "name": "stdout",
     "output_type": "stream",
     "text": [
      "          0         1\n",
      "0  1.000000  0.064342\n",
      "1  0.064342  1.000000 \n",
      "\n"
     ]
    },
    {
     "data": {
      "text/plain": [
       "<matplotlib.figure.Figure at 0x28f62de0710>"
      ]
     },
     "metadata": {},
     "output_type": "display_data"
    },
    {
     "data": {
      "image/png": "[encoded data removed]",
      "text/plain": [
       "<matplotlib.figure.Figure at 0x28f62836ba8>"
      ]
     },
     "metadata": {},
     "output_type": "display_data"
    }
   ],
   "source": [
    "z = books[['average_rating','title_length']]\n",
    "min_max_scaler = preprocessing.MinMaxScaler()\n",
    "x_scaled = min_max_scaler.fit_transform(z)\n",
    "df_title = pd.DataFrame(x_scaled)\n",
    "print(df_title.corr(),'\\n')\n",
    "plt.figure(figsize=(15,8))\n",
    "ax=sns.lmplot(x='average_rating',y='title_length',data=books)\n"
   ]
  },
  {
   "cell_type": "code",
   "execution_count": 33,
   "metadata": {},
   "outputs": [],
   "source": [
    "pub_year=books[['original_publication_year','average_rating','language_code','books_count']]"
   ]
  },
  {
   "cell_type": "code",
   "execution_count": 34,
   "metadata": {},
   "outputs": [
    {
     "name": "stderr",
     "output_type": "stream",
     "text": [
      "C:\\Users\\Adamolekun Wisdom\\Anaconda3\\lib\\site-packages\\ipykernel_launcher.py:1: SettingWithCopyWarning: \n",
      "A value is trying to be set on a copy of a slice from a DataFrame\n",
      "\n",
      "See the caveats in the documentation: http://pandas.pydata.org/pandas-docs/stable/indexing.html#indexing-view-versus-copy\n",
      "  \"\"\"Entry point for launching an IPython kernel.\n"
     ]
    }
   ],
   "source": [
    "pub_year.sort_values('books_count',ascending=False,inplace=True)"
   ]
  },
  {
   "cell_type": "code",
   "execution_count": 35,
   "metadata": {},
   "outputs": [],
   "source": [
    "pub_yearGrp=pub_year.groupby('original_publication_year').count()"
   ]
  },
  {
   "cell_type": "code",
   "execution_count": 36,
   "metadata": {},
   "outputs": [
    {
     "data": {
      "text/html": [
       "<div>\n",
       "<style scoped>\n",
       "    .dataframe tbody tr th:only-of-type {\n",
       "        vertical-align: middle;\n",
       "    }\n",
       "\n",
       "    .dataframe tbody tr th {\n",
       "        vertical-align: top;\n",
       "    }\n",
       "\n",
       "    .dataframe thead th {\n",
       "        text-align: right;\n",
       "    }\n",
       "</style>\n",
       "<table border=\"1\" class=\"dataframe\">\n",
       "  <thead>\n",
       "    <tr style=\"text-align: right;\">\n",
       "      <th></th>\n",
       "      <th>average_rating</th>\n",
       "      <th>language_code</th>\n",
       "      <th>books_count</th>\n",
       "    </tr>\n",
       "    <tr>\n",
       "      <th>original_publication_year</th>\n",
       "      <th></th>\n",
       "      <th></th>\n",
       "      <th></th>\n",
       "    </tr>\n",
       "  </thead>\n",
       "  <tbody>\n",
       "    <tr>\n",
       "      <th>2011.0</th>\n",
       "      <td>397</td>\n",
       "      <td>397</td>\n",
       "      <td>397</td>\n",
       "    </tr>\n",
       "    <tr>\n",
       "      <th>2010.0</th>\n",
       "      <td>373</td>\n",
       "      <td>373</td>\n",
       "      <td>373</td>\n",
       "    </tr>\n",
       "    <tr>\n",
       "      <th>2009.0</th>\n",
       "      <td>372</td>\n",
       "      <td>372</td>\n",
       "      <td>372</td>\n",
       "    </tr>\n",
       "    <tr>\n",
       "      <th>2012.0</th>\n",
       "      <td>351</td>\n",
       "      <td>351</td>\n",
       "      <td>351</td>\n",
       "    </tr>\n",
       "    <tr>\n",
       "      <th>2013.0</th>\n",
       "      <td>333</td>\n",
       "      <td>333</td>\n",
       "      <td>333</td>\n",
       "    </tr>\n",
       "  </tbody>\n",
       "</table>\n",
       "</div>"
      ],
      "text/plain": [
       "                           average_rating  language_code  books_count\n",
       "original_publication_year                                            \n",
       "2011.0                                397            397          397\n",
       "2010.0                                373            373          373\n",
       "2009.0                                372            372          372\n",
       "2012.0                                351            351          351\n",
       "2013.0                                333            333          333"
      ]
     },
     "execution_count": 36,
     "metadata": {},
     "output_type": "execute_result"
    }
   ],
   "source": [
    "pub_yearGrp.sort_values('books_count',ascending=False).head()"
   ]
  },
  {
   "cell_type": "code",
   "execution_count": 37,
   "metadata": {},
   "outputs": [
    {
     "data": {
      "image/png": "[encoded data removed]",
      "text/plain": [
       "<matplotlib.figure.Figure at 0x28f6318b668>"
      ]
     },
     "metadata": {},
     "output_type": "display_data"
    }
   ],
   "source": [
    "from wordcloud import WordCloud, STOPWORDS \n",
    "text=p.index\n",
    "wordcloud=WordCloud().generate(str(text))\n",
    "plt.figure(figsize = (8, 8), facecolor = None)\n",
    "plt.imshow(wordcloud, interpolation=None)\n",
    "plt.axis(\"off\")\n",
    "plt.show()"
   ]
  },
  {
   "cell_type": "code",
   "execution_count": 38,
   "metadata": {},
   "outputs": [
    {
     "data": {
      "text/plain": [
       "Index(['ｆａｖｏｕｒｉｔｅｓ', 'ＳＥＲＩＥＳ', 'Ｍａｎｇａ', 'Ｆａｖｏｒｉｔｅｓ', 'Ｃhildrens', 'ﻳﻮﺳﻒ-زيدان',\n",
       "       'ﺭﺿﻮﻯ-عاشور', '﹏moonplus-reader﹏', '골든', '漫画',\n",
       "       ...\n",
       "       '--258-', '--2-', '--19-', '--17-', '--166-', '--122-', '--12-',\n",
       "       '--10-', '--1-', '-'],\n",
       "      dtype='object', name='tag_name', length=34252)"
      ]
     },
     "execution_count": 38,
     "metadata": {},
     "output_type": "execute_result"
    }
   ],
   "source": [
    "p.index.sort_values(ascending=False)"
   ]
  },
  {
   "cell_type": "code",
   "execution_count": 39,
   "metadata": {},
   "outputs": [
    {
     "data": {
      "text/html": [
       "<div>\n",
       "<style scoped>\n",
       "    .dataframe tbody tr th:only-of-type {\n",
       "        vertical-align: middle;\n",
       "    }\n",
       "\n",
       "    .dataframe tbody tr th {\n",
       "        vertical-align: top;\n",
       "    }\n",
       "\n",
       "    .dataframe thead th {\n",
       "        text-align: right;\n",
       "    }\n",
       "</style>\n",
       "<table border=\"1\" class=\"dataframe\">\n",
       "  <thead>\n",
       "    <tr style=\"text-align: right;\">\n",
       "      <th></th>\n",
       "      <th>user_id</th>\n",
       "      <th>book_id</th>\n",
       "    </tr>\n",
       "  </thead>\n",
       "  <tbody>\n",
       "    <tr>\n",
       "      <th>0</th>\n",
       "      <td>1</td>\n",
       "      <td>112</td>\n",
       "    </tr>\n",
       "    <tr>\n",
       "      <th>1</th>\n",
       "      <td>1</td>\n",
       "      <td>235</td>\n",
       "    </tr>\n",
       "    <tr>\n",
       "      <th>2</th>\n",
       "      <td>1</td>\n",
       "      <td>533</td>\n",
       "    </tr>\n",
       "    <tr>\n",
       "      <th>3</th>\n",
       "      <td>1</td>\n",
       "      <td>1198</td>\n",
       "    </tr>\n",
       "    <tr>\n",
       "      <th>4</th>\n",
       "      <td>1</td>\n",
       "      <td>1874</td>\n",
       "    </tr>\n",
       "  </tbody>\n",
       "</table>\n",
       "</div>"
      ],
      "text/plain": [
       "   user_id  book_id\n",
       "0        1      112\n",
       "1        1      235\n",
       "2        1      533\n",
       "3        1     1198\n",
       "4        1     1874"
      ]
     },
     "execution_count": 39,
     "metadata": {},
     "output_type": "execute_result"
    }
   ],
   "source": [
    "to_read=pd.read_csv('to_read.csv')\n",
    "to_read.head()"
   ]
  },
  {
   "cell_type": "code",
   "execution_count": 40,
   "metadata": {},
   "outputs": [],
   "source": [
    "to_r= books.merge(to_read, left_on='book_id', right_on='book_id', how='inner')"
   ]
  },
  {
   "cell_type": "code",
   "execution_count": 41,
   "metadata": {},
   "outputs": [
    {
     "data": {
      "text/html": [
       "<div>\n",
       "<style scoped>\n",
       "    .dataframe tbody tr th:only-of-type {\n",
       "        vertical-align: middle;\n",
       "    }\n",
       "\n",
       "    .dataframe tbody tr th {\n",
       "        vertical-align: top;\n",
       "    }\n",
       "\n",
       "    .dataframe thead th {\n",
       "        text-align: right;\n",
       "    }\n",
       "</style>\n",
       "<table border=\"1\" class=\"dataframe\">\n",
       "  <thead>\n",
       "    <tr style=\"text-align: right;\">\n",
       "      <th></th>\n",
       "      <th>id</th>\n",
       "      <th>book_id</th>\n",
       "      <th>best_book_id</th>\n",
       "      <th>work_id</th>\n",
       "      <th>books_count</th>\n",
       "      <th>isbn</th>\n",
       "      <th>isbn13</th>\n",
       "      <th>authors</th>\n",
       "      <th>original_publication_year</th>\n",
       "      <th>original_title</th>\n",
       "      <th>...</th>\n",
       "      <th>ratings_1</th>\n",
       "      <th>ratings_2</th>\n",
       "      <th>ratings_3</th>\n",
       "      <th>ratings_4</th>\n",
       "      <th>ratings_5</th>\n",
       "      <th>image_url</th>\n",
       "      <th>small_image_url</th>\n",
       "      <th>total_rating</th>\n",
       "      <th>title_length</th>\n",
       "      <th>user_id</th>\n",
       "    </tr>\n",
       "  </thead>\n",
       "  <tbody>\n",
       "    <tr>\n",
       "      <th>0</th>\n",
       "      <td>2</td>\n",
       "      <td>3</td>\n",
       "      <td>3</td>\n",
       "      <td>4640799</td>\n",
       "      <td>491</td>\n",
       "      <td>439554934</td>\n",
       "      <td>9.780440e+12</td>\n",
       "      <td>J.K. Rowling, Mary GrandPré</td>\n",
       "      <td>1997.0</td>\n",
       "      <td>Harry Potter and the Philosopher's Stone</td>\n",
       "      <td>...</td>\n",
       "      <td>75504</td>\n",
       "      <td>101676</td>\n",
       "      <td>455024</td>\n",
       "      <td>1156318</td>\n",
       "      <td>3011543</td>\n",
       "      <td>https://images.gr-assets.com/books/1474154022m...</td>\n",
       "      <td>https://images.gr-assets.com/books/1474154022s...</td>\n",
       "      <td>6655290</td>\n",
       "      <td>6</td>\n",
       "      <td>61</td>\n",
       "    </tr>\n",
       "    <tr>\n",
       "      <th>1</th>\n",
       "      <td>2</td>\n",
       "      <td>3</td>\n",
       "      <td>3</td>\n",
       "      <td>4640799</td>\n",
       "      <td>491</td>\n",
       "      <td>439554934</td>\n",
       "      <td>9.780440e+12</td>\n",
       "      <td>J.K. Rowling, Mary GrandPré</td>\n",
       "      <td>1997.0</td>\n",
       "      <td>Harry Potter and the Philosopher's Stone</td>\n",
       "      <td>...</td>\n",
       "      <td>75504</td>\n",
       "      <td>101676</td>\n",
       "      <td>455024</td>\n",
       "      <td>1156318</td>\n",
       "      <td>3011543</td>\n",
       "      <td>https://images.gr-assets.com/books/1474154022m...</td>\n",
       "      <td>https://images.gr-assets.com/books/1474154022s...</td>\n",
       "      <td>6655290</td>\n",
       "      <td>6</td>\n",
       "      <td>590</td>\n",
       "    </tr>\n",
       "    <tr>\n",
       "      <th>2</th>\n",
       "      <td>2</td>\n",
       "      <td>3</td>\n",
       "      <td>3</td>\n",
       "      <td>4640799</td>\n",
       "      <td>491</td>\n",
       "      <td>439554934</td>\n",
       "      <td>9.780440e+12</td>\n",
       "      <td>J.K. Rowling, Mary GrandPré</td>\n",
       "      <td>1997.0</td>\n",
       "      <td>Harry Potter and the Philosopher's Stone</td>\n",
       "      <td>...</td>\n",
       "      <td>75504</td>\n",
       "      <td>101676</td>\n",
       "      <td>455024</td>\n",
       "      <td>1156318</td>\n",
       "      <td>3011543</td>\n",
       "      <td>https://images.gr-assets.com/books/1474154022m...</td>\n",
       "      <td>https://images.gr-assets.com/books/1474154022s...</td>\n",
       "      <td>6655290</td>\n",
       "      <td>6</td>\n",
       "      <td>632</td>\n",
       "    </tr>\n",
       "    <tr>\n",
       "      <th>3</th>\n",
       "      <td>2</td>\n",
       "      <td>3</td>\n",
       "      <td>3</td>\n",
       "      <td>4640799</td>\n",
       "      <td>491</td>\n",
       "      <td>439554934</td>\n",
       "      <td>9.780440e+12</td>\n",
       "      <td>J.K. Rowling, Mary GrandPré</td>\n",
       "      <td>1997.0</td>\n",
       "      <td>Harry Potter and the Philosopher's Stone</td>\n",
       "      <td>...</td>\n",
       "      <td>75504</td>\n",
       "      <td>101676</td>\n",
       "      <td>455024</td>\n",
       "      <td>1156318</td>\n",
       "      <td>3011543</td>\n",
       "      <td>https://images.gr-assets.com/books/1474154022m...</td>\n",
       "      <td>https://images.gr-assets.com/books/1474154022s...</td>\n",
       "      <td>6655290</td>\n",
       "      <td>6</td>\n",
       "      <td>892</td>\n",
       "    </tr>\n",
       "    <tr>\n",
       "      <th>4</th>\n",
       "      <td>2</td>\n",
       "      <td>3</td>\n",
       "      <td>3</td>\n",
       "      <td>4640799</td>\n",
       "      <td>491</td>\n",
       "      <td>439554934</td>\n",
       "      <td>9.780440e+12</td>\n",
       "      <td>J.K. Rowling, Mary GrandPré</td>\n",
       "      <td>1997.0</td>\n",
       "      <td>Harry Potter and the Philosopher's Stone</td>\n",
       "      <td>...</td>\n",
       "      <td>75504</td>\n",
       "      <td>101676</td>\n",
       "      <td>455024</td>\n",
       "      <td>1156318</td>\n",
       "      <td>3011543</td>\n",
       "      <td>https://images.gr-assets.com/books/1474154022m...</td>\n",
       "      <td>https://images.gr-assets.com/books/1474154022s...</td>\n",
       "      <td>6655290</td>\n",
       "      <td>6</td>\n",
       "      <td>1400</td>\n",
       "    </tr>\n",
       "  </tbody>\n",
       "</table>\n",
       "<p>5 rows × 26 columns</p>\n",
       "</div>"
      ],
      "text/plain": [
       "   id  book_id  best_book_id  work_id  books_count       isbn        isbn13  \\\n",
       "0   2        3             3  4640799          491  439554934  9.780440e+12   \n",
       "1   2        3             3  4640799          491  439554934  9.780440e+12   \n",
       "2   2        3             3  4640799          491  439554934  9.780440e+12   \n",
       "3   2        3             3  4640799          491  439554934  9.780440e+12   \n",
       "4   2        3             3  4640799          491  439554934  9.780440e+12   \n",
       "\n",
       "                       authors  original_publication_year  \\\n",
       "0  J.K. Rowling, Mary GrandPré                     1997.0   \n",
       "1  J.K. Rowling, Mary GrandPré                     1997.0   \n",
       "2  J.K. Rowling, Mary GrandPré                     1997.0   \n",
       "3  J.K. Rowling, Mary GrandPré                     1997.0   \n",
       "4  J.K. Rowling, Mary GrandPré                     1997.0   \n",
       "\n",
       "                             original_title   ...    ratings_1 ratings_2  \\\n",
       "0  Harry Potter and the Philosopher's Stone   ...        75504    101676   \n",
       "1  Harry Potter and the Philosopher's Stone   ...        75504    101676   \n",
       "2  Harry Potter and the Philosopher's Stone   ...        75504    101676   \n",
       "3  Harry Potter and the Philosopher's Stone   ...        75504    101676   \n",
       "4  Harry Potter and the Philosopher's Stone   ...        75504    101676   \n",
       "\n",
       "   ratings_3  ratings_4  ratings_5  \\\n",
       "0     455024    1156318    3011543   \n",
       "1     455024    1156318    3011543   \n",
       "2     455024    1156318    3011543   \n",
       "3     455024    1156318    3011543   \n",
       "4     455024    1156318    3011543   \n",
       "\n",
       "                                           image_url  \\\n",
       "0  https://images.gr-assets.com/books/1474154022m...   \n",
       "1  https://images.gr-assets.com/books/1474154022m...   \n",
       "2  https://images.gr-assets.com/books/1474154022m...   \n",
       "3  https://images.gr-assets.com/books/1474154022m...   \n",
       "4  https://images.gr-assets.com/books/1474154022m...   \n",
       "\n",
       "                                     small_image_url  total_rating  \\\n",
       "0  https://images.gr-assets.com/books/1474154022s...       6655290   \n",
       "1  https://images.gr-assets.com/books/1474154022s...       6655290   \n",
       "2  https://images.gr-assets.com/books/1474154022s...       6655290   \n",
       "3  https://images.gr-assets.com/books/1474154022s...       6655290   \n",
       "4  https://images.gr-assets.com/books/1474154022s...       6655290   \n",
       "\n",
       "   title_length  user_id  \n",
       "0             6       61  \n",
       "1             6      590  \n",
       "2             6      632  \n",
       "3             6      892  \n",
       "4             6     1400  \n",
       "\n",
       "[5 rows x 26 columns]"
      ]
     },
     "execution_count": 41,
     "metadata": {},
     "output_type": "execute_result"
    }
   ],
   "source": [
    "to_r.head()"
   ]
  },
  {
   "cell_type": "code",
   "execution_count": 42,
   "metadata": {},
   "outputs": [],
   "source": [
    "to_r=to_r.groupby('original_title').count().sort_values(by='user_id',ascending=False)"
   ]
  },
  {
   "cell_type": "code",
   "execution_count": 43,
   "metadata": {},
   "outputs": [
    {
     "data": {
      "text/html": [
       "<div>\n",
       "<style scoped>\n",
       "    .dataframe tbody tr th:only-of-type {\n",
       "        vertical-align: middle;\n",
       "    }\n",
       "\n",
       "    .dataframe tbody tr th {\n",
       "        vertical-align: top;\n",
       "    }\n",
       "\n",
       "    .dataframe thead th {\n",
       "        text-align: right;\n",
       "    }\n",
       "</style>\n",
       "<table border=\"1\" class=\"dataframe\">\n",
       "  <thead>\n",
       "    <tr style=\"text-align: right;\">\n",
       "      <th></th>\n",
       "      <th>id</th>\n",
       "      <th>book_id</th>\n",
       "      <th>best_book_id</th>\n",
       "      <th>work_id</th>\n",
       "      <th>books_count</th>\n",
       "      <th>isbn</th>\n",
       "      <th>isbn13</th>\n",
       "      <th>authors</th>\n",
       "      <th>original_publication_year</th>\n",
       "      <th>title</th>\n",
       "      <th>...</th>\n",
       "      <th>ratings_1</th>\n",
       "      <th>ratings_2</th>\n",
       "      <th>ratings_3</th>\n",
       "      <th>ratings_4</th>\n",
       "      <th>ratings_5</th>\n",
       "      <th>image_url</th>\n",
       "      <th>small_image_url</th>\n",
       "      <th>total_rating</th>\n",
       "      <th>title_length</th>\n",
       "      <th>user_id</th>\n",
       "    </tr>\n",
       "    <tr>\n",
       "      <th>original_title</th>\n",
       "      <th></th>\n",
       "      <th></th>\n",
       "      <th></th>\n",
       "      <th></th>\n",
       "      <th></th>\n",
       "      <th></th>\n",
       "      <th></th>\n",
       "      <th></th>\n",
       "      <th></th>\n",
       "      <th></th>\n",
       "      <th></th>\n",
       "      <th></th>\n",
       "      <th></th>\n",
       "      <th></th>\n",
       "      <th></th>\n",
       "      <th></th>\n",
       "      <th></th>\n",
       "      <th></th>\n",
       "      <th></th>\n",
       "      <th></th>\n",
       "      <th></th>\n",
       "    </tr>\n",
       "  </thead>\n",
       "  <tbody>\n",
       "    <tr>\n",
       "      <th>The Ultimate Hitchhiker's Guide: Five Complete Novels and One Story</th>\n",
       "      <td>1812</td>\n",
       "      <td>1812</td>\n",
       "      <td>1812</td>\n",
       "      <td>1812</td>\n",
       "      <td>1812</td>\n",
       "      <td>1812</td>\n",
       "      <td>1812</td>\n",
       "      <td>1812</td>\n",
       "      <td>1812</td>\n",
       "      <td>1812</td>\n",
       "      <td>...</td>\n",
       "      <td>1812</td>\n",
       "      <td>1812</td>\n",
       "      <td>1812</td>\n",
       "      <td>1812</td>\n",
       "      <td>1812</td>\n",
       "      <td>1812</td>\n",
       "      <td>1812</td>\n",
       "      <td>1812</td>\n",
       "      <td>1812</td>\n",
       "      <td>1812</td>\n",
       "    </tr>\n",
       "    <tr>\n",
       "      <th>The Hitchhiker's Guide to the Galaxy</th>\n",
       "      <td>1767</td>\n",
       "      <td>1767</td>\n",
       "      <td>1767</td>\n",
       "      <td>1767</td>\n",
       "      <td>1767</td>\n",
       "      <td>1767</td>\n",
       "      <td>1767</td>\n",
       "      <td>1767</td>\n",
       "      <td>1767</td>\n",
       "      <td>1767</td>\n",
       "      <td>...</td>\n",
       "      <td>1767</td>\n",
       "      <td>1767</td>\n",
       "      <td>1767</td>\n",
       "      <td>1767</td>\n",
       "      <td>1767</td>\n",
       "      <td>1767</td>\n",
       "      <td>1767</td>\n",
       "      <td>1767</td>\n",
       "      <td>1767</td>\n",
       "      <td>1767</td>\n",
       "    </tr>\n",
       "    <tr>\n",
       "      <th>The Lord of the Rings: The Art of The Fellowship of the Ring</th>\n",
       "      <td>1499</td>\n",
       "      <td>1499</td>\n",
       "      <td>1499</td>\n",
       "      <td>1499</td>\n",
       "      <td>1499</td>\n",
       "      <td>1499</td>\n",
       "      <td>1499</td>\n",
       "      <td>1499</td>\n",
       "      <td>1499</td>\n",
       "      <td>1499</td>\n",
       "      <td>...</td>\n",
       "      <td>1499</td>\n",
       "      <td>1499</td>\n",
       "      <td>1499</td>\n",
       "      <td>1499</td>\n",
       "      <td>1499</td>\n",
       "      <td>1499</td>\n",
       "      <td>1499</td>\n",
       "      <td>1499</td>\n",
       "      <td>1499</td>\n",
       "      <td>1499</td>\n",
       "    </tr>\n",
       "    <tr>\n",
       "      <th>Harry Potter and the Goblet of Fire</th>\n",
       "      <td>1484</td>\n",
       "      <td>1484</td>\n",
       "      <td>1484</td>\n",
       "      <td>1484</td>\n",
       "      <td>1484</td>\n",
       "      <td>1484</td>\n",
       "      <td>1484</td>\n",
       "      <td>1484</td>\n",
       "      <td>1484</td>\n",
       "      <td>1484</td>\n",
       "      <td>...</td>\n",
       "      <td>1484</td>\n",
       "      <td>1484</td>\n",
       "      <td>1484</td>\n",
       "      <td>1484</td>\n",
       "      <td>1484</td>\n",
       "      <td>1484</td>\n",
       "      <td>1484</td>\n",
       "      <td>1484</td>\n",
       "      <td>1484</td>\n",
       "      <td>1484</td>\n",
       "    </tr>\n",
       "    <tr>\n",
       "      <th>The Known World</th>\n",
       "      <td>1352</td>\n",
       "      <td>1352</td>\n",
       "      <td>1352</td>\n",
       "      <td>1352</td>\n",
       "      <td>1352</td>\n",
       "      <td>1352</td>\n",
       "      <td>1352</td>\n",
       "      <td>1352</td>\n",
       "      <td>1352</td>\n",
       "      <td>1352</td>\n",
       "      <td>...</td>\n",
       "      <td>1352</td>\n",
       "      <td>1352</td>\n",
       "      <td>1352</td>\n",
       "      <td>1352</td>\n",
       "      <td>1352</td>\n",
       "      <td>1352</td>\n",
       "      <td>1352</td>\n",
       "      <td>1352</td>\n",
       "      <td>1352</td>\n",
       "      <td>1352</td>\n",
       "    </tr>\n",
       "  </tbody>\n",
       "</table>\n",
       "<p>5 rows × 25 columns</p>\n",
       "</div>"
      ],
      "text/plain": [
       "                                                      id  book_id  \\\n",
       "original_title                                                      \n",
       "The Ultimate Hitchhiker's Guide: Five Complete ...  1812     1812   \n",
       "The Hitchhiker's Guide to the Galaxy                1767     1767   \n",
       "The Lord of the Rings: The Art of The Fellowshi...  1499     1499   \n",
       "Harry Potter and the Goblet of Fire                 1484     1484   \n",
       "The Known World                                     1352     1352   \n",
       "\n",
       "                                                    best_book_id  work_id  \\\n",
       "original_title                                                              \n",
       "The Ultimate Hitchhiker's Guide: Five Complete ...          1812     1812   \n",
       "The Hitchhiker's Guide to the Galaxy                        1767     1767   \n",
       "The Lord of the Rings: The Art of The Fellowshi...          1499     1499   \n",
       "Harry Potter and the Goblet of Fire                         1484     1484   \n",
       "The Known World                                             1352     1352   \n",
       "\n",
       "                                                    books_count  isbn  isbn13  \\\n",
       "original_title                                                                  \n",
       "The Ultimate Hitchhiker's Guide: Five Complete ...         1812  1812    1812   \n",
       "The Hitchhiker's Guide to the Galaxy                       1767  1767    1767   \n",
       "The Lord of the Rings: The Art of The Fellowshi...         1499  1499    1499   \n",
       "Harry Potter and the Goblet of Fire                        1484  1484    1484   \n",
       "The Known World                                            1352  1352    1352   \n",
       "\n",
       "                                                    authors  \\\n",
       "original_title                                                \n",
       "The Ultimate Hitchhiker's Guide: Five Complete ...     1812   \n",
       "The Hitchhiker's Guide to the Galaxy                   1767   \n",
       "The Lord of the Rings: The Art of The Fellowshi...     1499   \n",
       "Harry Potter and the Goblet of Fire                    1484   \n",
       "The Known World                                        1352   \n",
       "\n",
       "                                                    original_publication_year  \\\n",
       "original_title                                                                  \n",
       "The Ultimate Hitchhiker's Guide: Five Complete ...                       1812   \n",
       "The Hitchhiker's Guide to the Galaxy                                     1767   \n",
       "The Lord of the Rings: The Art of The Fellowshi...                       1499   \n",
       "Harry Potter and the Goblet of Fire                                      1484   \n",
       "The Known World                                                          1352   \n",
       "\n",
       "                                                    title   ...     ratings_1  \\\n",
       "original_title                                              ...                 \n",
       "The Ultimate Hitchhiker's Guide: Five Complete ...   1812   ...          1812   \n",
       "The Hitchhiker's Guide to the Galaxy                 1767   ...          1767   \n",
       "The Lord of the Rings: The Art of The Fellowshi...   1499   ...          1499   \n",
       "Harry Potter and the Goblet of Fire                  1484   ...          1484   \n",
       "The Known World                                      1352   ...          1352   \n",
       "\n",
       "                                                    ratings_2  ratings_3  \\\n",
       "original_title                                                             \n",
       "The Ultimate Hitchhiker's Guide: Five Complete ...       1812       1812   \n",
       "The Hitchhiker's Guide to the Galaxy                     1767       1767   \n",
       "The Lord of the Rings: The Art of The Fellowshi...       1499       1499   \n",
       "Harry Potter and the Goblet of Fire                      1484       1484   \n",
       "The Known World                                          1352       1352   \n",
       "\n",
       "                                                    ratings_4  ratings_5  \\\n",
       "original_title                                                             \n",
       "The Ultimate Hitchhiker's Guide: Five Complete ...       1812       1812   \n",
       "The Hitchhiker's Guide to the Galaxy                     1767       1767   \n",
       "The Lord of the Rings: The Art of The Fellowshi...       1499       1499   \n",
       "Harry Potter and the Goblet of Fire                      1484       1484   \n",
       "The Known World                                          1352       1352   \n",
       "\n",
       "                                                    image_url  \\\n",
       "original_title                                                  \n",
       "The Ultimate Hitchhiker's Guide: Five Complete ...       1812   \n",
       "The Hitchhiker's Guide to the Galaxy                     1767   \n",
       "The Lord of the Rings: The Art of The Fellowshi...       1499   \n",
       "Harry Potter and the Goblet of Fire                      1484   \n",
       "The Known World                                          1352   \n",
       "\n",
       "                                                    small_image_url  \\\n",
       "original_title                                                        \n",
       "The Ultimate Hitchhiker's Guide: Five Complete ...             1812   \n",
       "The Hitchhiker's Guide to the Galaxy                           1767   \n",
       "The Lord of the Rings: The Art of The Fellowshi...             1499   \n",
       "Harry Potter and the Goblet of Fire                            1484   \n",
       "The Known World                                                1352   \n",
       "\n",
       "                                                    total_rating  \\\n",
       "original_title                                                     \n",
       "The Ultimate Hitchhiker's Guide: Five Complete ...          1812   \n",
       "The Hitchhiker's Guide to the Galaxy                        1767   \n",
       "The Lord of the Rings: The Art of The Fellowshi...          1499   \n",
       "Harry Potter and the Goblet of Fire                         1484   \n",
       "The Known World                                             1352   \n",
       "\n",
       "                                                    title_length  user_id  \n",
       "original_title                                                             \n",
       "The Ultimate Hitchhiker's Guide: Five Complete ...          1812     1812  \n",
       "The Hitchhiker's Guide to the Galaxy                        1767     1767  \n",
       "The Lord of the Rings: The Art of The Fellowshi...          1499     1499  \n",
       "Harry Potter and the Goblet of Fire                         1484     1484  \n",
       "The Known World                                             1352     1352  \n",
       "\n",
       "[5 rows x 25 columns]"
      ]
     },
     "execution_count": 43,
     "metadata": {},
     "output_type": "execute_result"
    }
   ],
   "source": [
    "to_r.head()"
   ]
  },
  {
   "cell_type": "code",
   "execution_count": 44,
   "metadata": {},
   "outputs": [
    {
     "data": {
      "text/plain": [
       "<matplotlib.axes._subplots.AxesSubplot at 0x28f63174f60>"
      ]
     },
     "execution_count": 44,
     "metadata": {},
     "output_type": "execute_result"
    },
    {
     "data": {
      "image/png": "[encoded data removed]",
      "text/plain": [
       "<matplotlib.figure.Figure at 0x28f632cd1d0>"
      ]
     },
     "metadata": {},
     "output_type": "display_data"
    }
   ],
   "source": [
    "import matplotlib.pyplot as plt\n",
    "plt.figure(figsize=(40,8))\n",
    "ax=sns.barplot(to_r.head(30).index,to_r.head(30)['book_id'])\n",
    "ax"
   ]
  },
  {
   "cell_type": "markdown",
   "metadata": {},
   "source": [
    "### Recommender System"
   ]
  },
  {
   "cell_type": "markdown",
   "metadata": {},
   "source": [
    "#### Content based"
   ]
  },
  {
   "cell_type": "code",
   "execution_count": 45,
   "metadata": {},
   "outputs": [
    {
     "ename": "KeyError",
     "evalue": "'book_id'",
     "output_type": "error",
     "traceback": [
      "\u001b[1;31m---------------------------------------------------------------------------\u001b[0m",
      "\u001b[1;31mKeyError\u001b[0m                                  Traceback (most recent call last)",
      "\u001b[1;32m~\\Anaconda3\\lib\\site-packages\\pandas\\core\\indexes\\base.py\u001b[0m in \u001b[0;36mget_loc\u001b[1;34m(self, key, method, tolerance)\u001b[0m\n\u001b[0;32m   2524\u001b[0m             \u001b[1;32mtry\u001b[0m\u001b[1;33m:\u001b[0m\u001b[1;33m\u001b[0m\u001b[0m\n\u001b[1;32m-> 2525\u001b[1;33m                 \u001b[1;32mreturn\u001b[0m \u001b[0mself\u001b[0m\u001b[1;33m.\u001b[0m\u001b[0m_engine\u001b[0m\u001b[1;33m.\u001b[0m\u001b[0mget_loc\u001b[0m\u001b[1;33m(\u001b[0m\u001b[0mkey\u001b[0m\u001b[1;33m)\u001b[0m\u001b[1;33m\u001b[0m\u001b[0m\n\u001b[0m\u001b[0;32m   2526\u001b[0m             \u001b[1;32mexcept\u001b[0m \u001b[0mKeyError\u001b[0m\u001b[1;33m:\u001b[0m\u001b[1;33m\u001b[0m\u001b[0m\n",
      "\u001b[1;32mpandas/_libs/index.pyx\u001b[0m in \u001b[0;36mpandas._libs.index.IndexEngine.get_loc\u001b[1;34m()\u001b[0m\n",
      "\u001b[1;32mpandas/_libs/index.pyx\u001b[0m in \u001b[0;36mpandas._libs.index.IndexEngine.get_loc\u001b[1;34m()\u001b[0m\n",
      "\u001b[1;32mpandas/_libs/hashtable_class_helper.pxi\u001b[0m in \u001b[0;36mpandas._libs.hashtable.PyObjectHashTable.get_item\u001b[1;34m()\u001b[0m\n",
      "\u001b[1;32mpandas/_libs/hashtable_class_helper.pxi\u001b[0m in \u001b[0;36mpandas._libs.hashtable.PyObjectHashTable.get_item\u001b[1;34m()\u001b[0m\n",
      "\u001b[1;31mKeyError\u001b[0m: 'book_id'",
      "\nDuring handling of the above exception, another exception occurred:\n",
      "\u001b[1;31mKeyError\u001b[0m                                  Traceback (most recent call last)",
      "\u001b[1;32m<ipython-input-45-a5077a4ad5cf>\u001b[0m in \u001b[0;36m<module>\u001b[1;34m()\u001b[0m\n\u001b[1;32m----> 1\u001b[1;33m \u001b[0mrec_book\u001b[0m\u001b[1;33m=\u001b[0m\u001b[0mpd\u001b[0m\u001b[1;33m.\u001b[0m\u001b[0mmerge\u001b[0m\u001b[1;33m(\u001b[0m\u001b[0mbooks\u001b[0m\u001b[1;33m,\u001b[0m\u001b[0mtag_joint\u001b[0m\u001b[1;33m,\u001b[0m\u001b[0mleft_on\u001b[0m\u001b[1;33m=\u001b[0m\u001b[1;34m'book_id'\u001b[0m\u001b[1;33m,\u001b[0m\u001b[0mright_on\u001b[0m\u001b[1;33m=\u001b[0m\u001b[1;34m'book_id'\u001b[0m\u001b[1;33m)\u001b[0m\u001b[1;33m\u001b[0m\u001b[0m\n\u001b[0m",
      "\u001b[1;32m~\\Anaconda3\\lib\\site-packages\\pandas\\core\\reshape\\merge.py\u001b[0m in \u001b[0;36mmerge\u001b[1;34m(left, right, how, on, left_on, right_on, left_index, right_index, sort, suffixes, copy, indicator, validate)\u001b[0m\n\u001b[0;32m     55\u001b[0m                          \u001b[0mright_index\u001b[0m\u001b[1;33m=\u001b[0m\u001b[0mright_index\u001b[0m\u001b[1;33m,\u001b[0m \u001b[0msort\u001b[0m\u001b[1;33m=\u001b[0m\u001b[0msort\u001b[0m\u001b[1;33m,\u001b[0m \u001b[0msuffixes\u001b[0m\u001b[1;33m=\u001b[0m\u001b[0msuffixes\u001b[0m\u001b[1;33m,\u001b[0m\u001b[1;33m\u001b[0m\u001b[0m\n\u001b[0;32m     56\u001b[0m                          \u001b[0mcopy\u001b[0m\u001b[1;33m=\u001b[0m\u001b[0mcopy\u001b[0m\u001b[1;33m,\u001b[0m \u001b[0mindicator\u001b[0m\u001b[1;33m=\u001b[0m\u001b[0mindicator\u001b[0m\u001b[1;33m,\u001b[0m\u001b[1;33m\u001b[0m\u001b[0m\n\u001b[1;32m---> 57\u001b[1;33m                          validate=validate)\n\u001b[0m\u001b[0;32m     58\u001b[0m     \u001b[1;32mreturn\u001b[0m \u001b[0mop\u001b[0m\u001b[1;33m.\u001b[0m\u001b[0mget_result\u001b[0m\u001b[1;33m(\u001b[0m\u001b[1;33m)\u001b[0m\u001b[1;33m\u001b[0m\u001b[0m\n\u001b[0;32m     59\u001b[0m \u001b[1;33m\u001b[0m\u001b[0m\n",
      "\u001b[1;32m~\\Anaconda3\\lib\\site-packages\\pandas\\core\\reshape\\merge.py\u001b[0m in \u001b[0;36m__init__\u001b[1;34m(self, left, right, how, on, left_on, right_on, axis, left_index, right_index, sort, suffixes, copy, indicator, validate)\u001b[0m\n\u001b[0;32m    563\u001b[0m         (self.left_join_keys,\n\u001b[0;32m    564\u001b[0m          \u001b[0mself\u001b[0m\u001b[1;33m.\u001b[0m\u001b[0mright_join_keys\u001b[0m\u001b[1;33m,\u001b[0m\u001b[1;33m\u001b[0m\u001b[0m\n\u001b[1;32m--> 565\u001b[1;33m          self.join_names) = self._get_merge_keys()\n\u001b[0m\u001b[0;32m    566\u001b[0m \u001b[1;33m\u001b[0m\u001b[0m\n\u001b[0;32m    567\u001b[0m         \u001b[1;31m# validate the merge keys dtypes. We may need to coerce\u001b[0m\u001b[1;33m\u001b[0m\u001b[1;33m\u001b[0m\u001b[0m\n",
      "\u001b[1;32m~\\Anaconda3\\lib\\site-packages\\pandas\\core\\reshape\\merge.py\u001b[0m in \u001b[0;36m_get_merge_keys\u001b[1;34m(self)\u001b[0m\n\u001b[0;32m    822\u001b[0m                     \u001b[1;32mif\u001b[0m \u001b[1;32mnot\u001b[0m \u001b[0mis_rkey\u001b[0m\u001b[1;33m(\u001b[0m\u001b[0mrk\u001b[0m\u001b[1;33m)\u001b[0m\u001b[1;33m:\u001b[0m\u001b[1;33m\u001b[0m\u001b[0m\n\u001b[0;32m    823\u001b[0m                         \u001b[1;32mif\u001b[0m \u001b[0mrk\u001b[0m \u001b[1;32mis\u001b[0m \u001b[1;32mnot\u001b[0m \u001b[1;32mNone\u001b[0m\u001b[1;33m:\u001b[0m\u001b[1;33m\u001b[0m\u001b[0m\n\u001b[1;32m--> 824\u001b[1;33m                             \u001b[0mright_keys\u001b[0m\u001b[1;33m.\u001b[0m\u001b[0mappend\u001b[0m\u001b[1;33m(\u001b[0m\u001b[0mright\u001b[0m\u001b[1;33m[\u001b[0m\u001b[0mrk\u001b[0m\u001b[1;33m]\u001b[0m\u001b[1;33m.\u001b[0m\u001b[0m_values\u001b[0m\u001b[1;33m)\u001b[0m\u001b[1;33m\u001b[0m\u001b[0m\n\u001b[0m\u001b[0;32m    825\u001b[0m                         \u001b[1;32melse\u001b[0m\u001b[1;33m:\u001b[0m\u001b[1;33m\u001b[0m\u001b[0m\n\u001b[0;32m    826\u001b[0m                             \u001b[1;31m# work-around for merge_asof(right_index=True)\u001b[0m\u001b[1;33m\u001b[0m\u001b[1;33m\u001b[0m\u001b[0m\n",
      "\u001b[1;32m~\\Anaconda3\\lib\\site-packages\\pandas\\core\\frame.py\u001b[0m in \u001b[0;36m__getitem__\u001b[1;34m(self, key)\u001b[0m\n\u001b[0;32m   2137\u001b[0m             \u001b[1;32mreturn\u001b[0m \u001b[0mself\u001b[0m\u001b[1;33m.\u001b[0m\u001b[0m_getitem_multilevel\u001b[0m\u001b[1;33m(\u001b[0m\u001b[0mkey\u001b[0m\u001b[1;33m)\u001b[0m\u001b[1;33m\u001b[0m\u001b[0m\n\u001b[0;32m   2138\u001b[0m         \u001b[1;32melse\u001b[0m\u001b[1;33m:\u001b[0m\u001b[1;33m\u001b[0m\u001b[0m\n\u001b[1;32m-> 2139\u001b[1;33m             \u001b[1;32mreturn\u001b[0m \u001b[0mself\u001b[0m\u001b[1;33m.\u001b[0m\u001b[0m_getitem_column\u001b[0m\u001b[1;33m(\u001b[0m\u001b[0mkey\u001b[0m\u001b[1;33m)\u001b[0m\u001b[1;33m\u001b[0m\u001b[0m\n\u001b[0m\u001b[0;32m   2140\u001b[0m \u001b[1;33m\u001b[0m\u001b[0m\n\u001b[0;32m   2141\u001b[0m     \u001b[1;32mdef\u001b[0m \u001b[0m_getitem_column\u001b[0m\u001b[1;33m(\u001b[0m\u001b[0mself\u001b[0m\u001b[1;33m,\u001b[0m \u001b[0mkey\u001b[0m\u001b[1;33m)\u001b[0m\u001b[1;33m:\u001b[0m\u001b[1;33m\u001b[0m\u001b[0m\n",
      "\u001b[1;32m~\\Anaconda3\\lib\\site-packages\\pandas\\core\\frame.py\u001b[0m in \u001b[0;36m_getitem_column\u001b[1;34m(self, key)\u001b[0m\n\u001b[0;32m   2144\u001b[0m         \u001b[1;31m# get column\u001b[0m\u001b[1;33m\u001b[0m\u001b[1;33m\u001b[0m\u001b[0m\n\u001b[0;32m   2145\u001b[0m         \u001b[1;32mif\u001b[0m \u001b[0mself\u001b[0m\u001b[1;33m.\u001b[0m\u001b[0mcolumns\u001b[0m\u001b[1;33m.\u001b[0m\u001b[0mis_unique\u001b[0m\u001b[1;33m:\u001b[0m\u001b[1;33m\u001b[0m\u001b[0m\n\u001b[1;32m-> 2146\u001b[1;33m             \u001b[1;32mreturn\u001b[0m \u001b[0mself\u001b[0m\u001b[1;33m.\u001b[0m\u001b[0m_get_item_cache\u001b[0m\u001b[1;33m(\u001b[0m\u001b[0mkey\u001b[0m\u001b[1;33m)\u001b[0m\u001b[1;33m\u001b[0m\u001b[0m\n\u001b[0m\u001b[0;32m   2147\u001b[0m \u001b[1;33m\u001b[0m\u001b[0m\n\u001b[0;32m   2148\u001b[0m         \u001b[1;31m# duplicate columns & possible reduce dimensionality\u001b[0m\u001b[1;33m\u001b[0m\u001b[1;33m\u001b[0m\u001b[0m\n",
      "\u001b[1;32m~\\Anaconda3\\lib\\site-packages\\pandas\\core\\generic.py\u001b[0m in \u001b[0;36m_get_item_cache\u001b[1;34m(self, item)\u001b[0m\n\u001b[0;32m   1840\u001b[0m         \u001b[0mres\u001b[0m \u001b[1;33m=\u001b[0m \u001b[0mcache\u001b[0m\u001b[1;33m.\u001b[0m\u001b[0mget\u001b[0m\u001b[1;33m(\u001b[0m\u001b[0mitem\u001b[0m\u001b[1;33m)\u001b[0m\u001b[1;33m\u001b[0m\u001b[0m\n\u001b[0;32m   1841\u001b[0m         \u001b[1;32mif\u001b[0m \u001b[0mres\u001b[0m \u001b[1;32mis\u001b[0m \u001b[1;32mNone\u001b[0m\u001b[1;33m:\u001b[0m\u001b[1;33m\u001b[0m\u001b[0m\n\u001b[1;32m-> 1842\u001b[1;33m             \u001b[0mvalues\u001b[0m \u001b[1;33m=\u001b[0m \u001b[0mself\u001b[0m\u001b[1;33m.\u001b[0m\u001b[0m_data\u001b[0m\u001b[1;33m.\u001b[0m\u001b[0mget\u001b[0m\u001b[1;33m(\u001b[0m\u001b[0mitem\u001b[0m\u001b[1;33m)\u001b[0m\u001b[1;33m\u001b[0m\u001b[0m\n\u001b[0m\u001b[0;32m   1843\u001b[0m             \u001b[0mres\u001b[0m \u001b[1;33m=\u001b[0m \u001b[0mself\u001b[0m\u001b[1;33m.\u001b[0m\u001b[0m_box_item_values\u001b[0m\u001b[1;33m(\u001b[0m\u001b[0mitem\u001b[0m\u001b[1;33m,\u001b[0m \u001b[0mvalues\u001b[0m\u001b[1;33m)\u001b[0m\u001b[1;33m\u001b[0m\u001b[0m\n\u001b[0;32m   1844\u001b[0m             \u001b[0mcache\u001b[0m\u001b[1;33m[\u001b[0m\u001b[0mitem\u001b[0m\u001b[1;33m]\u001b[0m \u001b[1;33m=\u001b[0m \u001b[0mres\u001b[0m\u001b[1;33m\u001b[0m\u001b[0m\n",
      "\u001b[1;32m~\\Anaconda3\\lib\\site-packages\\pandas\\core\\internals.py\u001b[0m in \u001b[0;36mget\u001b[1;34m(self, item, fastpath)\u001b[0m\n\u001b[0;32m   3841\u001b[0m \u001b[1;33m\u001b[0m\u001b[0m\n\u001b[0;32m   3842\u001b[0m             \u001b[1;32mif\u001b[0m \u001b[1;32mnot\u001b[0m \u001b[0misna\u001b[0m\u001b[1;33m(\u001b[0m\u001b[0mitem\u001b[0m\u001b[1;33m)\u001b[0m\u001b[1;33m:\u001b[0m\u001b[1;33m\u001b[0m\u001b[0m\n\u001b[1;32m-> 3843\u001b[1;33m                 \u001b[0mloc\u001b[0m \u001b[1;33m=\u001b[0m \u001b[0mself\u001b[0m\u001b[1;33m.\u001b[0m\u001b[0mitems\u001b[0m\u001b[1;33m.\u001b[0m\u001b[0mget_loc\u001b[0m\u001b[1;33m(\u001b[0m\u001b[0mitem\u001b[0m\u001b[1;33m)\u001b[0m\u001b[1;33m\u001b[0m\u001b[0m\n\u001b[0m\u001b[0;32m   3844\u001b[0m             \u001b[1;32melse\u001b[0m\u001b[1;33m:\u001b[0m\u001b[1;33m\u001b[0m\u001b[0m\n\u001b[0;32m   3845\u001b[0m                 \u001b[0mindexer\u001b[0m \u001b[1;33m=\u001b[0m \u001b[0mnp\u001b[0m\u001b[1;33m.\u001b[0m\u001b[0marange\u001b[0m\u001b[1;33m(\u001b[0m\u001b[0mlen\u001b[0m\u001b[1;33m(\u001b[0m\u001b[0mself\u001b[0m\u001b[1;33m.\u001b[0m\u001b[0mitems\u001b[0m\u001b[1;33m)\u001b[0m\u001b[1;33m)\u001b[0m\u001b[1;33m[\u001b[0m\u001b[0misna\u001b[0m\u001b[1;33m(\u001b[0m\u001b[0mself\u001b[0m\u001b[1;33m.\u001b[0m\u001b[0mitems\u001b[0m\u001b[1;33m)\u001b[0m\u001b[1;33m]\u001b[0m\u001b[1;33m\u001b[0m\u001b[0m\n",
      "\u001b[1;32m~\\Anaconda3\\lib\\site-packages\\pandas\\core\\indexes\\base.py\u001b[0m in \u001b[0;36mget_loc\u001b[1;34m(self, key, method, tolerance)\u001b[0m\n\u001b[0;32m   2525\u001b[0m                 \u001b[1;32mreturn\u001b[0m \u001b[0mself\u001b[0m\u001b[1;33m.\u001b[0m\u001b[0m_engine\u001b[0m\u001b[1;33m.\u001b[0m\u001b[0mget_loc\u001b[0m\u001b[1;33m(\u001b[0m\u001b[0mkey\u001b[0m\u001b[1;33m)\u001b[0m\u001b[1;33m\u001b[0m\u001b[0m\n\u001b[0;32m   2526\u001b[0m             \u001b[1;32mexcept\u001b[0m \u001b[0mKeyError\u001b[0m\u001b[1;33m:\u001b[0m\u001b[1;33m\u001b[0m\u001b[0m\n\u001b[1;32m-> 2527\u001b[1;33m                 \u001b[1;32mreturn\u001b[0m \u001b[0mself\u001b[0m\u001b[1;33m.\u001b[0m\u001b[0m_engine\u001b[0m\u001b[1;33m.\u001b[0m\u001b[0mget_loc\u001b[0m\u001b[1;33m(\u001b[0m\u001b[0mself\u001b[0m\u001b[1;33m.\u001b[0m\u001b[0m_maybe_cast_indexer\u001b[0m\u001b[1;33m(\u001b[0m\u001b[0mkey\u001b[0m\u001b[1;33m)\u001b[0m\u001b[1;33m)\u001b[0m\u001b[1;33m\u001b[0m\u001b[0m\n\u001b[0m\u001b[0;32m   2528\u001b[0m \u001b[1;33m\u001b[0m\u001b[0m\n\u001b[0;32m   2529\u001b[0m         \u001b[0mindexer\u001b[0m \u001b[1;33m=\u001b[0m \u001b[0mself\u001b[0m\u001b[1;33m.\u001b[0m\u001b[0mget_indexer\u001b[0m\u001b[1;33m(\u001b[0m\u001b[1;33m[\u001b[0m\u001b[0mkey\u001b[0m\u001b[1;33m]\u001b[0m\u001b[1;33m,\u001b[0m \u001b[0mmethod\u001b[0m\u001b[1;33m=\u001b[0m\u001b[0mmethod\u001b[0m\u001b[1;33m,\u001b[0m \u001b[0mtolerance\u001b[0m\u001b[1;33m=\u001b[0m\u001b[0mtolerance\u001b[0m\u001b[1;33m)\u001b[0m\u001b[1;33m\u001b[0m\u001b[0m\n",
      "\u001b[1;32mpandas/_libs/index.pyx\u001b[0m in \u001b[0;36mpandas._libs.index.IndexEngine.get_loc\u001b[1;34m()\u001b[0m\n",
      "\u001b[1;32mpandas/_libs/index.pyx\u001b[0m in \u001b[0;36mpandas._libs.index.IndexEngine.get_loc\u001b[1;34m()\u001b[0m\n",
      "\u001b[1;32mpandas/_libs/hashtable_class_helper.pxi\u001b[0m in \u001b[0;36mpandas._libs.hashtable.PyObjectHashTable.get_item\u001b[1;34m()\u001b[0m\n",
      "\u001b[1;32mpandas/_libs/hashtable_class_helper.pxi\u001b[0m in \u001b[0;36mpandas._libs.hashtable.PyObjectHashTable.get_item\u001b[1;34m()\u001b[0m\n",
      "\u001b[1;31mKeyError\u001b[0m: 'book_id'"
     ]
    }
   ],
   "source": [
    "rec_book=pd.merge(books,tag_joint,left_on='book_id',right_on='book_id')"
   ]
  },
  {
   "cell_type": "code",
   "execution_count": 46,
   "metadata": {},
   "outputs": [
    {
     "data": {
      "text/html": [
       "<div>\n",
       "<style scoped>\n",
       "    .dataframe tbody tr th:only-of-type {\n",
       "        vertical-align: middle;\n",
       "    }\n",
       "\n",
       "    .dataframe tbody tr th {\n",
       "        vertical-align: top;\n",
       "    }\n",
       "\n",
       "    .dataframe thead th {\n",
       "        text-align: right;\n",
       "    }\n",
       "</style>\n",
       "<table border=\"1\" class=\"dataframe\">\n",
       "  <thead>\n",
       "    <tr style=\"text-align: right;\">\n",
       "      <th></th>\n",
       "      <th>original_title</th>\n",
       "      <th>authors</th>\n",
       "      <th>average_rating</th>\n",
       "      <th>total_rating</th>\n",
       "    </tr>\n",
       "  </thead>\n",
       "  <tbody>\n",
       "    <tr>\n",
       "      <th>9997</th>\n",
       "      <td>themauritiuscommand</td>\n",
       "      <td>patricko'brian</td>\n",
       "      <td>4.35</td>\n",
       "      <td>11673</td>\n",
       "    </tr>\n",
       "    <tr>\n",
       "      <th>9998</th>\n",
       "      <td>cinderellaatemydaughter:dispatchesfromthefront...</td>\n",
       "      <td>peggyorenstein</td>\n",
       "      <td>3.65</td>\n",
       "      <td>9792</td>\n",
       "    </tr>\n",
       "  </tbody>\n",
       "</table>\n",
       "</div>"
      ],
      "text/plain": [
       "                                         original_title         authors  \\\n",
       "9997                                themauritiuscommand  patricko'brian   \n",
       "9998  cinderellaatemydaughter:dispatchesfromthefront...  peggyorenstein   \n",
       "\n",
       "     average_rating total_rating  \n",
       "9997           4.35        11673  \n",
       "9998           3.65         9792  "
      ]
     },
     "execution_count": 46,
     "metadata": {},
     "output_type": "execute_result"
    }
   ],
   "source": [
    "\n",
    "fillnabooks= books.fillna('')\n",
    "def clean_data(x):\n",
    "        return str.lower(x.replace(\" \", \"\"))\n",
    "features=['original_title','authors','average_rating','total_rating']\n",
    "fillednabooks=fillnabooks[features].astype(str)\n",
    "for feature in features:\n",
    "    fillednabooks[feature] = fillednabooks[feature].apply(clean_data)\n",
    "    \n",
    "fillednabooks.tail(2)"
   ]
  },
  {
   "cell_type": "code",
   "execution_count": 47,
   "metadata": {},
   "outputs": [],
   "source": [
    "def create_soup(x):\n",
    "    return  x['authors'] + ' '+ x['original_title']+ ' '  + x['average_rating']+ ' '+x['average_rating']+ ' ' + x['total_rating']"
   ]
  },
  {
   "cell_type": "code",
   "execution_count": 48,
   "metadata": {},
   "outputs": [
    {
     "data": {
      "text/html": [
       "<div>\n",
       "<style scoped>\n",
       "    .dataframe tbody tr th:only-of-type {\n",
       "        vertical-align: middle;\n",
       "    }\n",
       "\n",
       "    .dataframe tbody tr th {\n",
       "        vertical-align: top;\n",
       "    }\n",
       "\n",
       "    .dataframe thead th {\n",
       "        text-align: right;\n",
       "    }\n",
       "</style>\n",
       "<table border=\"1\" class=\"dataframe\">\n",
       "  <thead>\n",
       "    <tr style=\"text-align: right;\">\n",
       "      <th></th>\n",
       "      <th>original_title</th>\n",
       "      <th>authors</th>\n",
       "      <th>average_rating</th>\n",
       "      <th>total_rating</th>\n",
       "    </tr>\n",
       "  </thead>\n",
       "  <tbody>\n",
       "    <tr>\n",
       "      <th>9997</th>\n",
       "      <td>themauritiuscommand</td>\n",
       "      <td>patricko'brian</td>\n",
       "      <td>4.35</td>\n",
       "      <td>11673</td>\n",
       "    </tr>\n",
       "    <tr>\n",
       "      <th>9998</th>\n",
       "      <td>cinderellaatemydaughter:dispatchesfromthefront...</td>\n",
       "      <td>peggyorenstein</td>\n",
       "      <td>3.65</td>\n",
       "      <td>9792</td>\n",
       "    </tr>\n",
       "  </tbody>\n",
       "</table>\n",
       "</div>"
      ],
      "text/plain": [
       "                                         original_title         authors  \\\n",
       "9997                                themauritiuscommand  patricko'brian   \n",
       "9998  cinderellaatemydaughter:dispatchesfromthefront...  peggyorenstein   \n",
       "\n",
       "     average_rating total_rating  \n",
       "9997           4.35        11673  \n",
       "9998           3.65         9792  "
      ]
     },
     "execution_count": 48,
     "metadata": {},
     "output_type": "execute_result"
    }
   ],
   "source": [
    "fillednabooks.tail(2)"
   ]
  },
  {
   "cell_type": "code",
   "execution_count": 49,
   "metadata": {},
   "outputs": [],
   "source": [
    "fillednabooks['soup']=fillednabooks.apply(create_soup,axis=1)"
   ]
  },
  {
   "cell_type": "code",
   "execution_count": 50,
   "metadata": {},
   "outputs": [],
   "source": [
    "from sklearn.feature_extraction.text import CountVectorizer\n",
    "from sklearn.metrics.pairwise import cosine_similarity\n",
    "\n",
    "count = CountVectorizer(stop_words='english')\n",
    "count_matrix = count.fit_transform(fillednabooks['soup'])\n",
    "\n",
    "cosine_sim2 = cosine_similarity(count_matrix, count_matrix)"
   ]
  },
  {
   "cell_type": "code",
   "execution_count": 51,
   "metadata": {},
   "outputs": [],
   "source": [
    "fillednabooks=fillednabooks.reset_index()\n",
    "indices = pd.Series(fillednabooks.index, index=fillednabooks['original_title'])"
   ]
  },
  {
   "cell_type": "code",
   "execution_count": 52,
   "metadata": {},
   "outputs": [],
   "source": [
    "def get_recommendations_new(title, cosine_sim=cosine_sim2):\n",
    "    title=title.replace(' ','').lower()\n",
    "    idx = indices[title]\n",
    "\n",
    "    # Get the pairwsie similarity scores of all movies with that movie\n",
    "    sim_scores = list(enumerate(cosine_sim[idx]))\n",
    "\n",
    "    # Sort the movies based on the similarity scores\n",
    "    sim_scores = sorted(sim_scores, key=lambda x: x[1], reverse=True)\n",
    "\n",
    "    # Get the scores of the 10 most similar movies\n",
    "    sim_scores = sim_scores[1:11]\n",
    "\n",
    "    # Get the movie indices\n",
    "    movie_indices = [i[0] for i in sim_scores]\n",
    "\n",
    "    # Return the top 10 most similar movies\n",
    "    return list(books['original_title'].iloc[movie_indices])"
   ]
  },
  {
   "cell_type": "code",
   "execution_count": 53,
   "metadata": {},
   "outputs": [],
   "source": [
    "l=get_recommendations_new('The Hobbit', cosine_sim2)"
   ]
  },
  {
   "cell_type": "code",
   "execution_count": 54,
   "metadata": {},
   "outputs": [
    {
     "data": {
      "text/plain": [
       "['Next',\n",
       " 'City of Heavenly Fire',\n",
       " 'The Tenth Circle',\n",
       " 'Luckiest Girl Alive',\n",
       " 'Best Friends Forever',\n",
       " 'The Chocolate War',\n",
       " 'The Crimson Crown',\n",
       " 'Drei Kameraden',\n",
       " 'The Krishna Key',\n",
       " 'The Complete Tales and Poems of Edgar Allan Poe']"
      ]
     },
     "execution_count": 54,
     "metadata": {},
     "output_type": "execute_result"
    }
   ],
   "source": [
    "l"
   ]
  },
  {
   "cell_type": "markdown",
   "metadata": {},
   "source": [
    "### Collaborative Filtering"
   ]
  },
  {
   "cell_type": "code",
   "execution_count": 55,
   "metadata": {},
   "outputs": [],
   "source": [
    "use_col=['book_id','original_title']\n",
    "book_col=books[use_col]"
   ]
  },
  {
   "cell_type": "code",
   "execution_count": 56,
   "metadata": {},
   "outputs": [],
   "source": [
    "book_col=book_col.dropna()"
   ]
  },
  {
   "cell_type": "code",
   "execution_count": 57,
   "metadata": {},
   "outputs": [],
   "source": [
    "# Creating Compressed sparse row matrix\n",
    "from scipy.sparse import csr_matrix\n",
    "#df_book_features = ratings.pivot(index='book_id',columns='user_id',values='rating').fillna(0)\n",
    "#|mat_book_feature=csr_matrix(df_book_features.values)"
   ]
  },
  {
   "cell_type": "code",
   "execution_count": 93,
   "metadata": {},
   "outputs": [],
   "source": [
    "rating_test=ratings.head(100000)\n",
    "df_book_features =pd.pivot_table(rating_test,index=['book_id'],columns=['user_id'],values=['rating'],fill_value=0)"
   ]
  },
  {
   "cell_type": "code",
   "execution_count": 65,
   "metadata": {
    "scrolled": true
   },
   "outputs": [
    {
     "data": {
      "text/html": [
       "<div>\n",
       "<style scoped>\n",
       "    .dataframe tbody tr th:only-of-type {\n",
       "        vertical-align: middle;\n",
       "    }\n",
       "\n",
       "    .dataframe tbody tr th {\n",
       "        vertical-align: top;\n",
       "    }\n",
       "\n",
       "    .dataframe thead tr th {\n",
       "        text-align: left;\n",
       "    }\n",
       "\n",
       "    .dataframe thead tr:last-of-type th {\n",
       "        text-align: right;\n",
       "    }\n",
       "</style>\n",
       "<table border=\"1\" class=\"dataframe\">\n",
       "  <thead>\n",
       "    <tr>\n",
       "      <th></th>\n",
       "      <th colspan=\"21\" halign=\"left\">rating</th>\n",
       "    </tr>\n",
       "    <tr>\n",
       "      <th>user_id</th>\n",
       "      <th>1</th>\n",
       "      <th>2</th>\n",
       "      <th>3</th>\n",
       "      <th>4</th>\n",
       "      <th>5</th>\n",
       "      <th>6</th>\n",
       "      <th>7</th>\n",
       "      <th>8</th>\n",
       "      <th>9</th>\n",
       "      <th>10</th>\n",
       "      <th>...</th>\n",
       "      <th>5345</th>\n",
       "      <th>5346</th>\n",
       "      <th>5347</th>\n",
       "      <th>5348</th>\n",
       "      <th>5349</th>\n",
       "      <th>5350</th>\n",
       "      <th>5351</th>\n",
       "      <th>5352</th>\n",
       "      <th>5353</th>\n",
       "      <th>5354</th>\n",
       "    </tr>\n",
       "    <tr>\n",
       "      <th>book_id</th>\n",
       "      <th></th>\n",
       "      <th></th>\n",
       "      <th></th>\n",
       "      <th></th>\n",
       "      <th></th>\n",
       "      <th></th>\n",
       "      <th></th>\n",
       "      <th></th>\n",
       "      <th></th>\n",
       "      <th></th>\n",
       "      <th></th>\n",
       "      <th></th>\n",
       "      <th></th>\n",
       "      <th></th>\n",
       "      <th></th>\n",
       "      <th></th>\n",
       "      <th></th>\n",
       "      <th></th>\n",
       "      <th></th>\n",
       "      <th></th>\n",
       "      <th></th>\n",
       "    </tr>\n",
       "  </thead>\n",
       "  <tbody>\n",
       "    <tr>\n",
       "      <th>1</th>\n",
       "      <td>0</td>\n",
       "      <td>0</td>\n",
       "      <td>0</td>\n",
       "      <td>0</td>\n",
       "      <td>0</td>\n",
       "      <td>0</td>\n",
       "      <td>0</td>\n",
       "      <td>0</td>\n",
       "      <td>0</td>\n",
       "      <td>0</td>\n",
       "      <td>...</td>\n",
       "      <td>0</td>\n",
       "      <td>0</td>\n",
       "      <td>0</td>\n",
       "      <td>0</td>\n",
       "      <td>0</td>\n",
       "      <td>0</td>\n",
       "      <td>0</td>\n",
       "      <td>0</td>\n",
       "      <td>0</td>\n",
       "      <td>0</td>\n",
       "    </tr>\n",
       "    <tr>\n",
       "      <th>2</th>\n",
       "      <td>0</td>\n",
       "      <td>0</td>\n",
       "      <td>0</td>\n",
       "      <td>0</td>\n",
       "      <td>0</td>\n",
       "      <td>0</td>\n",
       "      <td>0</td>\n",
       "      <td>0</td>\n",
       "      <td>0</td>\n",
       "      <td>0</td>\n",
       "      <td>...</td>\n",
       "      <td>0</td>\n",
       "      <td>0</td>\n",
       "      <td>0</td>\n",
       "      <td>0</td>\n",
       "      <td>0</td>\n",
       "      <td>0</td>\n",
       "      <td>0</td>\n",
       "      <td>0</td>\n",
       "      <td>0</td>\n",
       "      <td>0</td>\n",
       "    </tr>\n",
       "    <tr>\n",
       "      <th>3</th>\n",
       "      <td>0</td>\n",
       "      <td>0</td>\n",
       "      <td>0</td>\n",
       "      <td>0</td>\n",
       "      <td>0</td>\n",
       "      <td>0</td>\n",
       "      <td>0</td>\n",
       "      <td>0</td>\n",
       "      <td>0</td>\n",
       "      <td>0</td>\n",
       "      <td>...</td>\n",
       "      <td>0</td>\n",
       "      <td>0</td>\n",
       "      <td>0</td>\n",
       "      <td>0</td>\n",
       "      <td>0</td>\n",
       "      <td>0</td>\n",
       "      <td>0</td>\n",
       "      <td>0</td>\n",
       "      <td>0</td>\n",
       "      <td>0</td>\n",
       "    </tr>\n",
       "  </tbody>\n",
       "</table>\n",
       "<p>3 rows × 5354 columns</p>\n",
       "</div>"
      ],
      "text/plain": [
       "        rating                                              ...             \\\n",
       "user_id   1    2    3    4    5    6    7    8    9    10   ...  5345 5346   \n",
       "book_id                                                     ...              \n",
       "1            0    0    0    0    0    0    0    0    0    0 ...     0    0   \n",
       "2            0    0    0    0    0    0    0    0    0    0 ...     0    0   \n",
       "3            0    0    0    0    0    0    0    0    0    0 ...     0    0   \n",
       "\n",
       "                                                 \n",
       "user_id 5347 5348 5349 5350 5351 5352 5353 5354  \n",
       "book_id                                          \n",
       "1          0    0    0    0    0    0    0    0  \n",
       "2          0    0    0    0    0    0    0    0  \n",
       "3          0    0    0    0    0    0    0    0  \n",
       "\n",
       "[3 rows x 5354 columns]"
      ]
     },
     "execution_count": 65,
     "metadata": {},
     "output_type": "execute_result"
    }
   ],
   "source": [
    "mat_book_features=csr_matrix(df_book_features.values)\n",
    "df_book_features.head(3)"
   ]
  },
  {
   "cell_type": "code",
   "execution_count": 66,
   "metadata": {},
   "outputs": [
    {
     "name": "stdout",
     "output_type": "stream",
     "text": [
      "There are 53424 unique users and 10000 unique movies in this data set\n"
     ]
    }
   ],
   "source": [
    "from sklearn.neighbors import NearestNeighbors\n",
    "medel_knn=NearestNeighbors(metric='cosine', algorithm='brute', n_neighbors=20, n_jobs=-1)\n",
    "num_users = len(ratings.user_id.unique())\n",
    "num_items = len(ratings.book_id.unique())\n",
    "print('There are {} unique users and {} unique movies in this data set'.format(num_users, num_items))"
   ]
  },
  {
   "cell_type": "code",
   "execution_count": 67,
   "metadata": {},
   "outputs": [],
   "source": [
    "ratings=ratings.dropna()"
   ]
  },
  {
   "cell_type": "code",
   "execution_count": 68,
   "metadata": {},
   "outputs": [
    {
     "data": {
      "text/html": [
       "<div>\n",
       "<style scoped>\n",
       "    .dataframe tbody tr th:only-of-type {\n",
       "        vertical-align: middle;\n",
       "    }\n",
       "\n",
       "    .dataframe tbody tr th {\n",
       "        vertical-align: top;\n",
       "    }\n",
       "\n",
       "    .dataframe thead th {\n",
       "        text-align: right;\n",
       "    }\n",
       "</style>\n",
       "<table border=\"1\" class=\"dataframe\">\n",
       "  <thead>\n",
       "    <tr style=\"text-align: right;\">\n",
       "      <th></th>\n",
       "      <th>count</th>\n",
       "    </tr>\n",
       "    <tr>\n",
       "      <th>rating</th>\n",
       "      <th></th>\n",
       "    </tr>\n",
       "  </thead>\n",
       "  <tbody>\n",
       "    <tr>\n",
       "      <th>1</th>\n",
       "      <td>19526</td>\n",
       "    </tr>\n",
       "    <tr>\n",
       "      <th>2</th>\n",
       "      <td>63121</td>\n",
       "    </tr>\n",
       "    <tr>\n",
       "      <th>3</th>\n",
       "      <td>248154</td>\n",
       "    </tr>\n",
       "    <tr>\n",
       "      <th>4</th>\n",
       "      <td>356616</td>\n",
       "    </tr>\n",
       "    <tr>\n",
       "      <th>5</th>\n",
       "      <td>292061</td>\n",
       "    </tr>\n",
       "  </tbody>\n",
       "</table>\n",
       "</div>"
      ],
      "text/plain": [
       "         count\n",
       "rating        \n",
       "1        19526\n",
       "2        63121\n",
       "3       248154\n",
       "4       356616\n",
       "5       292061"
      ]
     },
     "execution_count": 68,
     "metadata": {},
     "output_type": "execute_result"
    }
   ],
   "source": [
    "df_rating=pd.DataFrame(ratings.groupby('rating').size(),columns=['count'])\n",
    "df_rating"
   ]
  },
  {
   "cell_type": "code",
   "execution_count": 70,
   "metadata": {},
   "outputs": [
    {
     "data": {
      "text/plain": [
       "(979478, 3)"
      ]
     },
     "execution_count": 70,
     "metadata": {},
     "output_type": "execute_result"
    }
   ],
   "source": [
    "ratings.shape"
   ]
  },
  {
   "cell_type": "code",
   "execution_count": 75,
   "metadata": {},
   "outputs": [
    {
     "data": {
      "text/html": [
       "<div>\n",
       "<style scoped>\n",
       "    .dataframe tbody tr th:only-of-type {\n",
       "        vertical-align: middle;\n",
       "    }\n",
       "\n",
       "    .dataframe tbody tr th {\n",
       "        vertical-align: top;\n",
       "    }\n",
       "\n",
       "    .dataframe thead th {\n",
       "        text-align: right;\n",
       "    }\n",
       "</style>\n",
       "<table border=\"1\" class=\"dataframe\">\n",
       "  <thead>\n",
       "    <tr style=\"text-align: right;\">\n",
       "      <th></th>\n",
       "      <th>count</th>\n",
       "    </tr>\n",
       "  </thead>\n",
       "  <tbody>\n",
       "    <tr>\n",
       "      <th>0.0</th>\n",
       "      <td>533260522</td>\n",
       "    </tr>\n",
       "    <tr>\n",
       "      <th>1.0</th>\n",
       "      <td>19526</td>\n",
       "    </tr>\n",
       "    <tr>\n",
       "      <th>2.0</th>\n",
       "      <td>63121</td>\n",
       "    </tr>\n",
       "    <tr>\n",
       "      <th>3.0</th>\n",
       "      <td>248154</td>\n",
       "    </tr>\n",
       "    <tr>\n",
       "      <th>4.0</th>\n",
       "      <td>356616</td>\n",
       "    </tr>\n",
       "    <tr>\n",
       "      <th>5.0</th>\n",
       "      <td>292061</td>\n",
       "    </tr>\n",
       "  </tbody>\n",
       "</table>\n",
       "</div>"
      ],
      "text/plain": [
       "         count\n",
       "0.0  533260522\n",
       "1.0      19526\n",
       "2.0      63121\n",
       "3.0     248154\n",
       "4.0     356616\n",
       "5.0     292061"
      ]
     },
     "execution_count": 75,
     "metadata": {},
     "output_type": "execute_result"
    }
   ],
   "source": [
    "total_cnt=num_users*num_items\n",
    "ratio_zero_cnt=total_cnt-ratings.shape[0]\n",
    "df_ratings_cnt = df_rating.append(\n",
    "    pd.DataFrame({'count': ratio_zero_cnt}, index=[0.0]),\n",
    "    verify_integrity=True,\n",
    ").sort_index()\n",
    "df_ratings_cnt"
   ]
  },
  {
   "cell_type": "code",
   "execution_count": 77,
   "metadata": {},
   "outputs": [
    {
     "data": {
      "text/plain": [
       "Text(0,0.5,'number of ratings')"
      ]
     },
     "execution_count": 77,
     "metadata": {},
     "output_type": "execute_result"
    },
    {
     "data": {
      "image/png": "[encoded data removed]",
      "text/plain": [
       "<matplotlib.figure.Figure at 0x28f6933c438>"
      ]
     },
     "metadata": {},
     "output_type": "display_data"
    }
   ],
   "source": [
    "import numpy as np\n",
    "df_ratings_cnt['log_count'] = np.log(df_ratings_cnt['count'])\n",
    "df_ratings_cnt\n",
    "\n",
    "import matplotlib.pyplot as plt\n",
    "get_ipython().run_line_magic('matplotlib', 'inline')\n",
    "ax = df_ratings_cnt[['count']].reset_index().rename(columns={'index': 'rating score'}).plot(\n",
    "    x='rating score',\n",
    "    y='count',\n",
    "    kind='bar',\n",
    "    figsize=(12, 8),\n",
    "    title='Count for Each Rating Score (in Log Scale)',\n",
    "    logy=True,\n",
    "    fontsize=12,color='black'\n",
    ")\n",
    "ax.set_xlabel(\"book rating score\")\n",
    "ax.set_ylabel(\"number of ratings\")\n",
    "\n"
   ]
  },
  {
   "cell_type": "code",
   "execution_count": 78,
   "metadata": {},
   "outputs": [
    {
     "data": {
      "text/html": [
       "<div>\n",
       "<style scoped>\n",
       "    .dataframe tbody tr th:only-of-type {\n",
       "        vertical-align: middle;\n",
       "    }\n",
       "\n",
       "    .dataframe tbody tr th {\n",
       "        vertical-align: top;\n",
       "    }\n",
       "\n",
       "    .dataframe thead th {\n",
       "        text-align: right;\n",
       "    }\n",
       "</style>\n",
       "<table border=\"1\" class=\"dataframe\">\n",
       "  <thead>\n",
       "    <tr style=\"text-align: right;\">\n",
       "      <th></th>\n",
       "      <th>count</th>\n",
       "      <th>log_count</th>\n",
       "    </tr>\n",
       "  </thead>\n",
       "  <tbody>\n",
       "    <tr>\n",
       "      <th>0.0</th>\n",
       "      <td>533260522</td>\n",
       "      <td>20.094521</td>\n",
       "    </tr>\n",
       "    <tr>\n",
       "      <th>1.0</th>\n",
       "      <td>19526</td>\n",
       "      <td>9.879502</td>\n",
       "    </tr>\n",
       "    <tr>\n",
       "      <th>2.0</th>\n",
       "      <td>63121</td>\n",
       "      <td>11.052809</td>\n",
       "    </tr>\n",
       "    <tr>\n",
       "      <th>3.0</th>\n",
       "      <td>248154</td>\n",
       "      <td>12.421805</td>\n",
       "    </tr>\n",
       "    <tr>\n",
       "      <th>4.0</th>\n",
       "      <td>356616</td>\n",
       "      <td>12.784415</td>\n",
       "    </tr>\n",
       "    <tr>\n",
       "      <th>5.0</th>\n",
       "      <td>292061</td>\n",
       "      <td>12.584718</td>\n",
       "    </tr>\n",
       "  </tbody>\n",
       "</table>\n",
       "</div>"
      ],
      "text/plain": [
       "         count  log_count\n",
       "0.0  533260522  20.094521\n",
       "1.0      19526   9.879502\n",
       "2.0      63121  11.052809\n",
       "3.0     248154  12.421805\n",
       "4.0     356616  12.784415\n",
       "5.0     292061  12.584718"
      ]
     },
     "execution_count": 78,
     "metadata": {},
     "output_type": "execute_result"
    }
   ],
   "source": [
    "df_ratings_cnt\n"
   ]
  },
  {
   "cell_type": "code",
   "execution_count": 85,
   "metadata": {},
   "outputs": [],
   "source": [
    "df_books_cnt = pd.DataFrame(ratings.groupby('book_id').size(), columns=['count']).sort_values('count')\n"
   ]
  },
  {
   "cell_type": "code",
   "execution_count": 90,
   "metadata": {},
   "outputs": [
    {
     "data": {
      "text/html": [
       "<div>\n",
       "<style scoped>\n",
       "    .dataframe tbody tr th:only-of-type {\n",
       "        vertical-align: middle;\n",
       "    }\n",
       "\n",
       "    .dataframe tbody tr th {\n",
       "        vertical-align: top;\n",
       "    }\n",
       "\n",
       "    .dataframe thead th {\n",
       "        text-align: right;\n",
       "    }\n",
       "</style>\n",
       "<table border=\"1\" class=\"dataframe\">\n",
       "  <thead>\n",
       "    <tr style=\"text-align: right;\">\n",
       "      <th></th>\n",
       "      <th>count</th>\n",
       "    </tr>\n",
       "    <tr>\n",
       "      <th>book_id</th>\n",
       "      <th></th>\n",
       "    </tr>\n",
       "  </thead>\n",
       "  <tbody>\n",
       "    <tr>\n",
       "      <th>3531</th>\n",
       "      <td>100</td>\n",
       "    </tr>\n",
       "    <tr>\n",
       "      <th>3532</th>\n",
       "      <td>100</td>\n",
       "    </tr>\n",
       "    <tr>\n",
       "      <th>3533</th>\n",
       "      <td>100</td>\n",
       "    </tr>\n",
       "    <tr>\n",
       "      <th>3527</th>\n",
       "      <td>100</td>\n",
       "    </tr>\n",
       "    <tr>\n",
       "      <th>5000</th>\n",
       "      <td>100</td>\n",
       "    </tr>\n",
       "  </tbody>\n",
       "</table>\n",
       "</div>"
      ],
      "text/plain": [
       "         count\n",
       "book_id       \n",
       "3531       100\n",
       "3532       100\n",
       "3533       100\n",
       "3527       100\n",
       "5000       100"
      ]
     },
     "execution_count": 90,
     "metadata": {},
     "output_type": "execute_result"
    }
   ],
   "source": [
    "df_books_cnt.tail()"
   ]
  },
  {
   "cell_type": "code",
   "execution_count": 87,
   "metadata": {},
   "outputs": [
    {
     "name": "stdout",
     "output_type": "stream",
     "text": [
      "shape of original ratings data:  (979478, 3)\n",
      "shape of ratings data after dropping unpopular movies:  (979435, 3)\n"
     ]
    }
   ],
   "source": [
    "popular_movies = list(set(df_books_cnt.query('count >=30').index))\n",
    "df_ratings_drop = ratings[ratings.book_id.isin(popular_movies)]\n",
    "print('shape of original ratings data: ', ratings.shape)\n",
    "print('shape of ratings data after dropping unpopular movies: ', df_ratings_drop.shape)"
   ]
  },
  {
   "cell_type": "code",
   "execution_count": 88,
   "metadata": {},
   "outputs": [
    {
     "data": {
      "text/html": [
       "<div>\n",
       "<style scoped>\n",
       "    .dataframe tbody tr th:only-of-type {\n",
       "        vertical-align: middle;\n",
       "    }\n",
       "\n",
       "    .dataframe tbody tr th {\n",
       "        vertical-align: top;\n",
       "    }\n",
       "\n",
       "    .dataframe thead th {\n",
       "        text-align: right;\n",
       "    }\n",
       "</style>\n",
       "<table border=\"1\" class=\"dataframe\">\n",
       "  <thead>\n",
       "    <tr style=\"text-align: right;\">\n",
       "      <th></th>\n",
       "      <th>count</th>\n",
       "    </tr>\n",
       "    <tr>\n",
       "      <th>user_id</th>\n",
       "      <th></th>\n",
       "    </tr>\n",
       "  </thead>\n",
       "  <tbody>\n",
       "    <tr>\n",
       "      <th>1</th>\n",
       "      <td>3</td>\n",
       "    </tr>\n",
       "    <tr>\n",
       "      <th>2</th>\n",
       "      <td>3</td>\n",
       "    </tr>\n",
       "    <tr>\n",
       "      <th>3</th>\n",
       "      <td>2</td>\n",
       "    </tr>\n",
       "    <tr>\n",
       "      <th>4</th>\n",
       "      <td>3</td>\n",
       "    </tr>\n",
       "    <tr>\n",
       "      <th>5</th>\n",
       "      <td>5</td>\n",
       "    </tr>\n",
       "  </tbody>\n",
       "</table>\n",
       "</div>"
      ],
      "text/plain": [
       "         count\n",
       "user_id       \n",
       "1            3\n",
       "2            3\n",
       "3            2\n",
       "4            3\n",
       "5            5"
      ]
     },
     "execution_count": 88,
     "metadata": {},
     "output_type": "execute_result"
    }
   ],
   "source": [
    "# get number of ratings given by every user\n",
    "df_users_cnt = pd.DataFrame(df_ratings_drop.groupby('user_id').size(), columns=['count'])\n",
    "df_users_cnt.head()"
   ]
  },
  {
   "cell_type": "code",
   "execution_count": 91,
   "metadata": {},
   "outputs": [
    {
     "name": "stdout",
     "output_type": "stream",
     "text": [
      "shape of original ratings data:  (979478, 3)\n",
      "shape of ratings data after dropping unpopular movies:  (199429, 3)\n"
     ]
    }
   ],
   "source": [
    "popular_user = list(set(df_users_cnt.query('count >=30').index))\n",
    "df_ratings_drop = ratings[ratings.book_id.isin(popular_user)]\n",
    "print('shape of original ratings data: ', ratings.shape)\n",
    "print('shape of ratings data after dropping unpopular movies: ', df_ratings_drop.shape)"
   ]
  },
  {
   "cell_type": "code",
   "execution_count": 94,
   "metadata": {},
   "outputs": [],
   "source": [
    "df_ratings_drop=df_ratings_drop.head(100000)\n",
    "book_user_mat  =pd.pivot_table(df_ratings_drop,index=['book_id'],columns=['user_id'],values=['rating'],fill_value=0)"
   ]
  },
  {
   "cell_type": "code",
   "execution_count": 97,
   "metadata": {},
   "outputs": [],
   "source": [
    "book_user_mat_sparse = csr_matrix(book_user_mat.values)"
   ]
  },
  {
   "cell_type": "code",
   "execution_count": 98,
   "metadata": {},
   "outputs": [
    {
     "data": {
      "text/plain": [
       "NearestNeighbors(algorithm='brute', leaf_size=30, metric='cosine',\n",
       "         metric_params=None, n_jobs=-1, n_neighbors=20, p=2, radius=1.0)"
      ]
     },
     "execution_count": 98,
     "metadata": {},
     "output_type": "execute_result"
    }
   ],
   "source": [
    "model_knn = NearestNeighbors(metric='cosine', algorithm='brute', n_neighbors=20, n_jobs=-1)\n",
    "# fit\n",
    "model_knn.fit(book_user_mat_sparse)"
   ]
  },
  {
   "cell_type": "code",
   "execution_count": 107,
   "metadata": {},
   "outputs": [],
   "source": [
    "from fuzzywuzzy import fuzz\n",
    "def fuzzy_matching(mapper, fav_book, verbose=True):\n",
    "    match_tuple = []\n",
    "    # get match\n",
    "    for title, idx in mapper.items():\n",
    "        ratio = fuzz.ratio(title.lower(), fav_book.lower())\n",
    "        if ratio >= 60:\n",
    "            match_tuple.append((title, idx, ratio))\n",
    "    # sort\n",
    "    match_tuple = sorted(match_tuple, key=lambda x: x[2])[::-1]\n",
    "    if not match_tuple:\n",
    "        print('Oops! No match is found')\n",
    "        return\n",
    "    if verbose:\n",
    "        print('Found possible matches in our database: {0}\\n'.format([x[0] for x in match_tuple]))\n",
    "    return match_tuple[0][1]"
   ]
  },
  {
   "cell_type": "code",
   "execution_count": 103,
   "metadata": {},
   "outputs": [],
   "source": [
    "def make_recommendation(model_knn, data, mapper, fav_book, n_recommendations):\n",
    "    # fit\n",
    "    model_knn.fit(data)\n",
    "    # get input movie index\n",
    "    print('You have input book:', fav_book)\n",
    "    idx = fuzzy_matching(mapper, fav_book, verbose=True)\n",
    "    \n",
    "    print('Recommendation system starting to make inference')\n",
    "    print('......\\n')\n",
    "    distances, indices = model_knn.kneighbors(data[idx], n_neighbors=n_recommendations+1)\n",
    "    \n",
    "    raw_recommends =         sorted(list(zip(indices.squeeze().tolist(), distances.squeeze().tolist())), key=lambda x: x[1])[:0:-1]\n",
    "    # get reverse mapper\n",
    "    reverse_mapper = {v: k for k, v in mapper.items()}\n",
    "    # print recommendations\n",
    "    print('Recommendations for {}:'.format(fav_book))\n",
    "    rec=[]\n",
    "    for i, (idx, dist) in enumerate(raw_recommends):\n",
    "        if idx not in reverse_mapper.keys():\n",
    "            continue\n",
    "        print('{0}: {1}, with distance of {2}'.format(i+1, reverse_mapper[idx], dist))\n",
    "        rec.append(reverse_mapper[idx])\n",
    "    return rec\n"
   ]
  },
  {
   "cell_type": "code",
   "execution_count": 105,
   "metadata": {},
   "outputs": [],
   "source": [
    "my_favorite = 'To Kill a Mockingbird'\n",
    "usecols=['book_id', 'original_title']\n",
    "books_col=books[usecols]\n",
    "indices = pd.Series(books_col.index, index=books_col['original_title'])"
   ]
  },
  {
   "cell_type": "code",
   "execution_count": 112,
   "metadata": {},
   "outputs": [
    {
     "name": "stdout",
     "output_type": "stream",
     "text": [
      "whats your favorite book: The Tempest\n",
      "You have input book: The Tempest\n",
      "Found possible matches in our database: ['The Tempest', 'The Bees', 'The Poet', 'The Mist', 'The Nest', 'The Testing', 'The Three', 'The Prestige', 'The Beast', 'The Heist', \"The Emperor's Tomb\", 'The Other Typist', 'The Jester', 'The Expats', 'The Target', 'The Heroes', 'The Twelve', 'The Interestings', 'The Prefect', 'The Apostle', 'Three Fates', 'The Three Pigs', 'Twice Tempted ', 'The Postman', 'The Mistake', 'The Federalist', 'White Teeth', 'The Prophet', 'The Witches', 'The Rats', 'The Keep', 'The Reef', 'The List', 'The Mask', 'The Game', 'The Omen', 'The Pact', 'The Host', 'The Help', 'The Replacement', 'The Engagements', 'The Medusa Plot', \"The Emperor's Soul\", \"The Emperor's Code\", 'The Templar Legacy', 'The Dovekeepers', 'The Time Keeper', 'The Vampire Lestat', 'The Outcasts', 'The Best Man', 'The Keepsake', 'The Defector', 'The Tea Rose', 'The Reversal', 'The Likeness', 'The Alienist', 'The Exorcist', 'The Namesake', 'The Red Tent', 'The Sight', 'The Troop', 'The Keep ', 'The Waves', 'The Prize', 'The Queen', 'The Jewel', 'The Eight', 'The Thief', 'The Atonement Child', 'The Truth', 'The Magus', 'The Gods Themselves', 'The Enemy', 'The Twits', 'The Elite', 'The Stand']\n",
      "\n",
      "Recommendation system starting to make inference\n",
      "......\n",
      "\n",
      "Recommendations for The Tempest:\n",
      "1: Thinking, Fast and Slow, with distance of 0.9322746786882852\n",
      "2: Stellaluna, with distance of 0.9312957081378483\n",
      "3: Before I Fall, with distance of 0.9308689693027247\n",
      "4: Post Office, with distance of 0.9267065274765266\n",
      "6: Guess How Much I Love You, with distance of 0.9255654794967374\n",
      "7: Strega Nona, with distance of 0.9115196928876054\n",
      "8: Native Son , with distance of 0.9010862090754828\n",
      "9: Hearts in Atlantis, with distance of 0.8761415764232845\n",
      "10: Wolves of the Calla, with distance of 0.8708656303469698\n"
     ]
    },
    {
     "data": {
      "text/plain": [
       "['Thinking, Fast and Slow',\n",
       " 'Stellaluna',\n",
       " 'Before I Fall',\n",
       " 'Post Office',\n",
       " 'Guess How Much I Love You',\n",
       " 'Strega Nona',\n",
       " 'Native Son ',\n",
       " 'Hearts in Atlantis',\n",
       " 'Wolves of the Calla']"
      ]
     },
     "execution_count": 112,
     "metadata": {},
     "output_type": "execute_result"
    }
   ],
   "source": [
    "my_favorite=input('whats your favorite book: ')\n",
    "make_recommendation(\n",
    "    model_knn=model_knn,\n",
    "    data=book_user_mat_sparse,\n",
    "    fav_book=my_favorite,\n",
    "    mapper=indices,\n",
    "    n_recommendations=10)"
   ]
  },
  {
   "cell_type": "code",
   "execution_count": null,
   "metadata": {},
   "outputs": [],
   "source": []
  }
 ],
 "metadata": {
  "kernelspec": {
   "display_name": "Python 3",
   "language": "python",
   "name": "python3"
  },
  "language_info": {
   "codemirror_mode": {
    "name": "ipython",
    "version": 3
   },
   "file_extension": ".py",
   "mimetype": "text/x-python",
   "name": "python",
   "nbconvert_exporter": "python",
   "pygments_lexer": "ipython3",
   "version": "3.6.4"
  }
 },
 "nbformat": 4,
 "nbformat_minor": 2
}
